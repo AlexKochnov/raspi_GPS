{
 "cells": [
  {
   "cell_type": "code",
   "execution_count": 2,
   "id": "initial_id",
   "metadata": {
    "collapsed": true,
    "ExecuteTime": {
     "end_time": "2024-05-10T07:12:11.736056100Z",
     "start_time": "2024-05-10T07:12:09.951489300Z"
    }
   },
   "outputs": [],
   "source": [
    "import numpy as np\n",
    "import matplotlib.pyplot as plt\n",
    "from mpl_toolkits.mplot3d import Axes3D\n",
    "from matplotlib.animation import FuncAnimation, PillowWriter\n",
    "\n"
   ]
  },
  {
   "cell_type": "code",
   "outputs": [],
   "source": [
    "# Создаем сферу с помощью параметрических уравнений\n",
    "u = np.linspace(0, 2 * np.pi, 100)\n",
    "v = np.linspace(0, np.pi, 50)\n",
    "R = 6400e3/1.3\n",
    "x = R * np.outer(np.cos(u), np.sin(v))\n",
    "y = R * np.outer(np.sin(u), np.sin(v))\n",
    "z = R * np.outer(np.ones(np.size(u)), np.cos(v))\n",
    "# import Constants\n",
    "# print(np.linalg.norm(Constants.ECEF) > R)\n"
   ],
   "metadata": {
    "collapsed": false,
    "ExecuteTime": {
     "end_time": "2024-05-10T12:02:54.392706100Z",
     "start_time": "2024-05-10T12:02:54.282715100Z"
    }
   },
   "id": "d3319195e1b8ed26",
   "execution_count": 172
  },
  {
   "cell_type": "code",
   "outputs": [],
   "source": [
    "earth_texture = plt.imread('textures/8k_earth_daymap.jpg') / 255.0"
   ],
   "metadata": {
    "collapsed": false,
    "ExecuteTime": {
     "end_time": "2024-05-10T08:49:37.523154800Z",
     "start_time": "2024-05-10T08:49:36.891760500Z"
    }
   },
   "id": "28233b2356a06b13",
   "execution_count": 99
  },
  {
   "cell_type": "code",
   "outputs": [
    {
     "name": "stderr",
     "output_type": "stream",
     "text": [
      "C:\\Users\\kippe\\AppData\\Local\\Temp\\ipykernel_1712\\4091001819.py:1: DeprecationWarning: \n",
      "Pyarrow will become a required dependency of pandas in the next major release of pandas (pandas 3.0),\n",
      "(to allow more performant data types, such as the Arrow string type, and better interoperability with other libraries)\n",
      "but was not found to be installed on your system.\n",
      "If this would cause problems for you,\n",
      "please provide us feedback at https://github.com/pandas-dev/pandas/issues/54466\n",
      "        \n",
      "  import pandas as pd\n"
     ]
    }
   ],
   "source": [
    "import pandas as pd\n",
    "from pandas._typing import FilePath\n",
    "\n",
    "\n",
    "def load_df(name: FilePath, H):\n",
    "    df = pd.read_csv(\n",
    "        name,\n",
    "        sep=';', header=None,\n",
    "        names=['svId', 'gnssId', 'TOW', 'alm_x', 'alm_y', 'alm_z', 'eph_x', 'eph_y', 'eph_z',\n",
    "               'elev', 'azim', 'doMes', 'cpMes', 'prMes',\n",
    "               'alm_x1', 'alm_y1', 'alm_z1', 'eph_x1', 'eph_y1', 'eph_z1'])\n",
    "    if H:\n",
    "        df = df[df.TOW % H == 0]\n",
    "    df = df[df.TOW > 1]\n",
    "\n",
    "    df.reset_index(drop=True, inplace=True)\n",
    "    return df"
   ],
   "metadata": {
    "collapsed": false,
    "ExecuteTime": {
     "end_time": "2024-05-10T07:12:16.170479900Z",
     "start_time": "2024-05-10T07:12:14.405246800Z"
    }
   },
   "id": "1e47d8a4dae7664e",
   "execution_count": 5
  },
  {
   "cell_type": "code",
   "outputs": [],
   "source": [
    "df = load_df('sat_raw_calc_data.txt', 5*60)  # , time_correction_minus=True)\n",
    "df = df[df.gnssId == 'GNSS.GPS']\n",
    "df = df[df.TOW > 72 * 3600]\n",
    "df = df[df.TOW < 96 * 3600]\n",
    "df"
   ],
   "metadata": {
    "collapsed": false
   },
   "id": "aadcb3d6716af799",
   "execution_count": null
  },
  {
   "cell_type": "code",
   "outputs": [],
   "source": [
    "from Transformations import eci2ecef\n",
    "\n",
    "df['eph'] = df.eph_x.notna()\n",
    "df['visible'] = df.elev.notna() & df.elev > 0\n",
    "\n",
    "df['alm'] = df.apply(lambda row: (row['alm_x'], row['alm_y'], row['alm_z']), axis=1)\n",
    "df['alm_ecef'] = df.apply(lambda row: eci2ecef(row['TOW'], *row['alm']), axis=1)\n",
    "df['X'] = df.alm_ecef.apply(lambda xyz: xyz[0])\n",
    "df['Y'] = df.alm_ecef.apply(lambda xyz: xyz[1])\n",
    "df['Z'] = df.alm_ecef.apply(lambda xyz: xyz[2])\n",
    "# \n",
    "# df['X'] = df.alm_x\n",
    "# df['Y'] = df.alm_y\n",
    "# df['Z'] = df.alm_z\n",
    "\n",
    "df = df[['svId', 'TOW', 'X', 'Y', 'Z', 'eph', 'visible']].copy()\n",
    "df = df.dropna()"
   ],
   "metadata": {
    "collapsed": false
   },
   "id": "71ba04a9d57401f2",
   "execution_count": null
  },
  {
   "cell_type": "code",
   "outputs": [],
   "source": [
    "fig, axs = plt.subplots(3, figsize=(10, 8))\n",
    "for svId in range(1, 33):\n",
    "    sat = df[df.svId == svId]\n",
    "    sat = sat[sat.TOW > 10]\n",
    "    if not len(sat):\n",
    "        continue\n",
    "    for i in range(3):\n",
    "        type = 'XYZ'[i]\n",
    "        axs[i].plot(sat.TOW, sat[type], label=svId)\n",
    "plt.savefig('b.png', dpi=600)"
   ],
   "metadata": {
    "collapsed": false
   },
   "id": "ed4be62b0ac2a139",
   "execution_count": null
  },
  {
   "cell_type": "code",
   "outputs": [],
   "source": [
    "import Constants\n",
    "from matplotlib.colors import LightSource\n",
    "\n",
    "\n",
    "# Создаем фигуру и оси\n",
    "fig = plt.figure()\n",
    "ax = fig.add_subplot(111, projection='3d')\n",
    "\n",
    "TIME = df.TOW.unique().tolist()\n",
    "print(TIME)\n",
    "print(len(TIME))\n",
    "print(len(TIME)/15)\n",
    "# Отрисовываем сферу с текстурой\n",
    "surface = ax.plot_surface(x, y, z, rstride=4, cstride=4, linewidth=0, antialiased=False)\n",
    "# ax.plot_surface(x, y, z, c=earth_texture)\n",
    "\n",
    "sats = df[df.TOW == TIME[0]]\n",
    "# global points \n",
    "# points = ax.scatter(sats.alm_x, sats.alm_y, sats.alm_z, color='blue')\n",
    "\n",
    "def get_color(row):\n",
    "    if row['eph']:\n",
    "        return 'green'  \n",
    "    elif row['visible']:\n",
    "        return'yellow'\n",
    "    else:\n",
    "        return 'blue'\n",
    "print(Constants.ECEF)\n",
    "# Функция для обновления анимации\n",
    "def update(time, ax):\n",
    "    alm = 0\n",
    "    eph = 0\n",
    "    visible = 0\n",
    "    # time = 259500\n",
    "    ax.cla()\n",
    "    ax.clear()\n",
    "    # global points\n",
    "    sats = df[df.TOW == time]\n",
    "    # sats = sats[sats.svId == 4]\n",
    "    # sats = sats[sats.svId >= 25]\n",
    "    \n",
    "    ls = LightSource(azdeg=0, altdeg=45)  # Устанавливаем угол направления света\n",
    "    surface = ax.plot_surface(x, y, z, rstride=4, cstride=4, linewidth=0, antialiased=False, facecolors=ls.shade(z, cmap=plt.cm.cool), zorder=-1, alpha=1)\n",
    "    \n",
    "    # ax.plot([Constants.ECEF[0]]*2, [Constants.ECEF[1]]*2, [-2.5e7, 2.5e7], color='red')\n",
    "\n",
    "    for svId in range(1, 33):\n",
    "        sat = sats[sats.svId == svId]\n",
    "        if not len(sat):\n",
    "            continue\n",
    "        sat = sat.iloc[0]\n",
    "        color = get_color(sat)\n",
    "        ax.scatter(sat.X, sat.Y, sat.Z, color=color, s=15)\n",
    "        \n",
    "        if sat.visible:\n",
    "            ax.plot([Constants.ECEF[0], sat.X], [Constants.ECEF[1], sat.Y], [Constants.ECEF[2], sat.Z], color='yellow', zorder=100, linewidth=1)\n",
    "        \n",
    "        d = df[df.svId == svId]\n",
    "        # if svId > 29:\n",
    "        ax.plot(d.X, d.Y, d.Z, linewidth=0.5, color='lightgrey', linestyle='--')\n",
    "        \n",
    "        if sat.eph:\n",
    "            eph += 1\n",
    "        elif sat.visible:\n",
    "            visible += 1\n",
    "        else:\n",
    "            alm += 1\n",
    "        \n",
    "    # ax.scatter(sats.alm_x, sats.alm_y, sats.alm_z)\n",
    "    # np\n",
    "    # points._offsets3d = ([], [], [])\n",
    "\n",
    "    # colors = sats.apply(get_color, axis=1).tolist()\n",
    "    \n",
    "    # points = ax.scatter(\n",
    "    #     sats.X, sats.Y, sats.Z,\n",
    "    #     color=colors\n",
    "    # )\n",
    "    for i in range(3):\n",
    "        ax.scatter(0, 0, 0, color=['blue', 'green', 'yellow'][i], s=10, label=[f'alm [{alm}]', f'eph [{eph}]', f'visible [{visible}]'][i])\n",
    "    ax.legend()\n",
    "    \n",
    "    ax.set_xlim3d(-2.5e7, 2.5e7)\n",
    "    ax.set_ylim3d(-2.5e7, 2.5e7)\n",
    "    ax.set_zlim3d(-2.5e7, 2.5e7)\n",
    "    \n",
    "    ax.scatter(*Constants.ECEF, color='red', s=100, zorder=2000)\n",
    "\n",
    "    # points._offsets3d = (sats.alm_x, sats.alm_y, sats.alm_z)\n",
    "    # colors = sats.apply(get_color, axis=1)\n",
    "    # points.set_color(colors.tolist())\n",
    "    # print(time, colors.tolist())\n",
    "    \n",
    "    ax.view_init(azim=60)\n",
    "    ax.set_xlabel('X')\n",
    "    ax.set_ylabel('Y')\n",
    "    ax.set_zlabel('Z')\n",
    "    ax.text2D(0.1, 0.9, 'Скорость: x3600', transform=ax.transAxes, fontsize=12,\n",
    "          verticalalignment='bottom', horizontalalignment='center')\n",
    "    \n",
    "    \n",
    "update(TIME[0], ax)\n",
    "# update(239100, ax)\n",
    "# Создаем анимацию\n",
    "ani = FuncAnimation(fig, update, frames=TIME, fargs=(ax, ), interval=1)#np.arange(0, 3600*24, 300)\n",
    "# ani = FuncAnimation(fig, update, frames=np.arange(0, 360, 10), fargs=(ax, ), interval=1)#np.arange(0, 3600*24, 300)\n",
    "\n",
    "# Создаем объект writer для сохранения анимации в формате GIF\n",
    "writer = PillowWriter(fps=12)\n",
    "# plt.annotate('Скорость: x3600', xy=(0.5, 0), xytext=(0, 20),\n",
    "#              xycoords='axes fraction', textcoords='offset points',\n",
    "#              ha='center', va='bottom', fontsize=12)\n",
    "\n",
    "# Сохраняем анимацию в файл\n",
    "ani.save('animation.gif', writer=writer, dpi=300)#, bbox_inches='tight')\n",
    "# ani.save('animation.gif', writer='imagemagik', dpi=300, fps=12)#transparent=True)\n",
    "# plt.savefig('c.png', dpi=300, transparent=False)\n",
    "plt.show()\n",
    "\n"
   ],
   "metadata": {
    "collapsed": false
   },
   "id": "8bc041a30a3e8a22",
   "execution_count": null
  },
  {
   "cell_type": "code",
   "outputs": [],
   "source": [
    "# Сохраняем анимацию в файл\n",
    "ani.save('animation2.gif', writer=writer, dpi=600)\n",
    "# plt.savefig('a.png', dpi=600)\n",
    "# plt.show()"
   ],
   "metadata": {
    "collapsed": false,
    "ExecuteTime": {
     "end_time": "2024-05-10T09:32:04.388744800Z",
     "start_time": "2024-05-10T09:26:42.268227900Z"
    }
   },
   "id": "b72033f88e5a6cac",
   "execution_count": 139
  },
  {
   "cell_type": "code",
   "outputs": [],
   "source": [],
   "metadata": {
    "collapsed": false
   },
   "id": "1bd29599f2634609"
  }
 ],
 "metadata": {
  "kernelspec": {
   "display_name": "Python 3",
   "language": "python",
   "name": "python3"
  },
  "language_info": {
   "codemirror_mode": {
    "name": "ipython",
    "version": 2
   },
   "file_extension": ".py",
   "mimetype": "text/x-python",
   "name": "python",
   "nbconvert_exporter": "python",
   "pygments_lexer": "ipython2",
   "version": "2.7.6"
  }
 },
 "nbformat": 4,
 "nbformat_minor": 5
}
