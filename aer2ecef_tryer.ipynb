{
 "cells": [
  {
   "cell_type": "code",
   "execution_count": 25,
   "id": "initial_id",
   "metadata": {
    "collapsed": true,
    "ExecuteTime": {
     "end_time": "2024-04-05T13:56:21.517945500Z",
     "start_time": "2024-04-05T13:56:21.500389400Z"
    }
   },
   "outputs": [],
   "source": [
    "import pandas as pd, numpy as np\n",
    "import matplotlib.pyplot as plt\n"
   ]
  },
  {
   "cell_type": "code",
   "outputs": [
    {
     "name": "stdout",
     "output_type": "stream",
     "text": [
      "Collecting pyubx2\n",
      "  Obtaining dependency information for pyubx2 from https://files.pythonhosted.org/packages/1b/38/6790210673025c05f626c5359d4442fcc8477809171f22ab249a4c7c6be9/pyubx2-1.2.39-py3-none-any.whl.metadata\n",
      "  Downloading pyubx2-1.2.39-py3-none-any.whl.metadata (30 kB)\n",
      "Requirement already satisfied: pynmeagps>=1.0.33 in c:\\users\\kippe\\appdata\\local\\programs\\python\\python312\\lib\\site-packages (from pyubx2) (1.0.33)\n",
      "Requirement already satisfied: pyrtcm>=1.0.15 in c:\\users\\kippe\\appdata\\local\\programs\\python\\python312\\lib\\site-packages (from pyubx2) (1.0.15)\n",
      "Downloading pyubx2-1.2.39-py3-none-any.whl (72 kB)\n",
      "   ---------------------------------------- 0.0/72.8 kB ? eta -:--:--\n",
      "   ----------- ---------------------------- 20.5/72.8 kB 682.7 kB/s eta 0:00:01\n",
      "   ---------------------------- ----------- 51.2/72.8 kB 660.6 kB/s eta 0:00:01\n",
      "   ---------------------------------------- 72.8/72.8 kB 573.6 kB/s eta 0:00:00\n",
      "Installing collected packages: pyubx2\n",
      "Successfully installed pyubx2-1.2.39\n"
     ]
    },
    {
     "name": "stderr",
     "output_type": "stream",
     "text": [
      "\n",
      "[notice] A new release of pip is available: 23.2.1 -> 24.0\n",
      "[notice] To update, run: C:\\Users\\kippe\\AppData\\Local\\Programs\\Python\\Python312\\python.exe -m pip install --upgrade pip\n"
     ]
    }
   ],
   "source": [
    "!pip install pyubx2"
   ],
   "metadata": {
    "collapsed": false,
    "ExecuteTime": {
     "end_time": "2024-04-19T13:52:37.919226700Z",
     "start_time": "2024-04-19T13:52:22.138691700Z"
    }
   },
   "id": "98196870a57ac1e3",
   "execution_count": 2
  },
  {
   "cell_type": "code",
   "outputs": [
    {
     "name": "stdout",
     "output_type": "stream",
     "text": [
      "17640991.25750333\n",
      "28051607.614606958\n",
      "30110271.972998984\n",
      "25213646.081019744\n",
      "18126821.61147473\n",
      "19989859.99420869\n",
      "20719244.11250142\n",
      "4\n",
      "ME: 51964060429424.97\n",
      "         Current function value: 0.000000\n",
      "         Iterations: 22\n",
      "         Function evaluations: 46\n",
      "         Gradient evaluations: 38\n",
      "func: 2.7755575615628914e-17\n",
      "jac: (-3.03436691481214e-09, 1.1365900121529576e-08, -5.367058936695426e-09, 4.467255741357803e-09)\n",
      "ECI xyz and dT: [ 2663122.52389853 -2256019.57218648  4984234.09886257  -515855.32591748]\n",
      "ECEF xyz: (2833990.304551736, 2037239.514905123, 4984234.098862572)\n",
      "LLA calculated:(55.18693468067432, 35.71081015251094, -278992.352457156)\n",
      "LLA my valid: [55.690555555555555, 37.858333333333334, 140]\n",
      "Full error: 313986.81747776386\n",
      "=======================================================\n",
      "6.702754633462569 16.866111203101667 51.96667218609946\n",
      "dT: -515855.32591747557\n",
      "SV: 2\n",
      "LLA coord of eph: (54.778574333712214, -2.599099294810358, 20609476.799185265), ECI: (3083735.0837371247, -15264679.893977871, 22023672.59776174)\n",
      "Pseudorange: 21287006.71172188\n",
      "Calcuated R: 24227862.69496601\n",
      "Error: 2940855.9832441323\n",
      "Correcet R + c*dT: 24073213.15883682\n",
      "Error: 2786206.4471149407\n",
      "-------------------\n",
      "SV: 3\n",
      "LLA coord of eph: (20.563028232794647, -26.29683814855313, 20071096.481122497), ECI: (-5266178.306825727, -24200168.805107825, 9275882.780136764)\n",
      "Pseudorange: 23569552.149582583\n",
      "Calcuated R: 27921538.535424158\n",
      "Error: 4351986.3858415745\n",
      "Correcet R + c*dT: 27766888.999294966\n",
      "Error: 4197336.849712383\n",
      "-------------------\n",
      "SV: 8\n",
      "LLA coord of eph: (6.956557292797008, 12.255401402283935, 20401543.510204043), ECI: (11767921.924898334, -23836185.707812116, 3238333.7481267625)\n",
      "Pseudorange: 23332562.103576988\n",
      "Calcuated R: 27606628.692118213\n",
      "Error: 4274066.588541225\n",
      "Correcet R + c*dT: 27451979.15598902\n",
      "Error: 4119417.052412033\n",
      "-------------------\n",
      "SV: 14\n",
      "LLA coord of eph: (32.8805984759661, -67.18090593189676, 20120890.127411187), ECI: (-17814568.83024119, -13346038.744851686, 14366266.396749528)\n",
      "Pseudorange: 24952060.692096338\n",
      "Calcuated R: 27423496.67334435\n",
      "Error: 2471435.9812480137\n",
      "Correcet R + c*dT: 27268847.13721516\n",
      "Error: 2316786.445118822\n",
      "-------------------\n"
     ]
    },
    {
     "name": "stderr",
     "output_type": "stream",
     "text": [
      "C:\\Users\\kippe\\AppData\\Local\\Programs\\Python\\Python312\\Lib\\site-packages\\scipy\\optimize\\_minimize.py:705: OptimizeWarning: Desired error not necessarily achieved due to precision loss.\n",
      "  res = _minimize_bfgs(fun, x0, args, jac, callback, **options)\n"
     ]
    }
   ],
   "source": [
    "from scipy.optimize import minimize\n",
    "import pickle, numpy as np\n",
    "import Constants\n",
    "from Transformations import *\n",
    "import Minimizing\n",
    "# with open('storage478046.999877142.log', 'rb') as storage_file:\n",
    "#     storage = pickle.load(storage_file)\n",
    "# good_eph = [satellite for satellite in storage.satellites.values()\n",
    "#                     if satellite.eph is not None and satellite.rawx]\n",
    "with open('7_calculation579118.000331166.log', 'rb') as eph_file:\n",
    "    good_eph = pickle.load(eph_file)\n",
    "    \n",
    "TOW = 579118.000331166\n",
    "# print(good_eph)\n",
    "for sat in good_eph:\n",
    "    E = np.array(sat.eph_coord)\n",
    "    A = np.array(sat.alm_coord)\n",
    "    print(np.linalg.norm(A-E))\n",
    "\n",
    "\n",
    "# good_eph = good_eph[0:4] + [good_eph[5]]\n",
    "good_eph = good_eph[:4]\n",
    "# good_eph = good_eph[:5]\n",
    "\n",
    "print(len(good_eph))\n",
    "func = Minimizing.get_minimize_function(good_eph)\n",
    "me = np.array(list(Constants.ECI) + [0])\n",
    "print(f'ME: {func(me)}')\n",
    "xyzt0 = np.array([0, 0, 0, 0])\n",
    "# xyzt0 = np.array(list(Constants.ECI) + [0])\n",
    "# xyzt0 = np.array([0, 0, 0, 0, 0])\n",
    "# xyzt0 = np.array([-1e6, 3.5e6, 5e6, -1e-3])\n",
    "xyzt = minimize(\n",
    "                func,\n",
    "                xyzt0,\n",
    "                jac=Minimizing.get_minimize_derivative(good_eph),\n",
    "                options={'disp': True, 'maxiter': 1000},\n",
    "                tol=1e-12\n",
    "        )\n",
    "xyz = xyzt.x[:3]\n",
    "ecef = eci2ecef(TOW, *xyz)\n",
    "lla = eci2lla(TOW, *xyz)\n",
    "jac=Minimizing.get_minimize_derivative(good_eph)\n",
    "print(f'func: {func(xyzt.x)}')\n",
    "# print(f'func: {func(xyzt.x + np.array([0, 0, 0, 0]))}')\n",
    "print(f'jac: {jac(xyzt.x)}')\n",
    "# print(np.linalg.norm(np.array(xyz)))\n",
    "# print(np.linalg.norm(np.array(ecef)))\n",
    "print(f'ECI xyz and dT: {xyzt.x}')\n",
    "print(f'ECEF xyz: {ecef}')\n",
    "print(f'LLA calculated:{lla}')\n",
    "print(f'LLA my valid: {Constants.LLA}')\n",
    "print(f'Full error: {np.linalg.norm(np.array(ecef) - np.array(Constants.ECEF))}')\n",
    "a = 0\n",
    "print('=======================================================')\n",
    "dT = xyzt.x[-1]\n",
    "print((TOW/3600) / 24, (TOW/3600) % 24, (TOW %3600)/60)\n",
    "print(f'dT: {dT}')\n",
    "for satellite in good_eph:\n",
    "    print(f'SV: {satellite.svId}')\n",
    "    print(f'LLA coord of eph: {eci2lla(TOW, *satellite.eph_coord)}, ECI: {satellite.eph_coord}')\n",
    "    # print(f'LLA coord of alm: {eci2lla(TOW, *satellite.alm_coord)}, ECI: {satellite.alm_coord}')\n",
    "    R = np.linalg.norm(np.array(satellite.eph_coord) - np.array(Constants.ECI))\n",
    "    print(f'Pseudorange: {satellite.rawx.prMes}')\n",
    "    print(f'Calcuated R: {R}')\n",
    "    print(f'Error: {abs(R-satellite.rawx.prMes)}')\n",
    "    print(f'Correcet R + c*dT: {R + Constants.c * dT / Minimizing.TimeCoefficient}')\n",
    "    print(f'Error: {abs(R + Constants.c*dT /Minimizing.TimeCoefficient - satellite.rawx.prMes)}')\n",
    "    print('-------------------')\n",
    "# b = 0\n",
    "    "
   ],
   "metadata": {
    "collapsed": false,
    "ExecuteTime": {
     "end_time": "2024-04-23T16:08:44.859663100Z",
     "start_time": "2024-04-23T16:08:44.751040300Z"
    }
   },
   "id": "6ccd9bac9c878ce0",
   "execution_count": 8
  },
  {
   "cell_type": "code",
   "outputs": [
    {
     "name": "stdout",
     "output_type": "stream",
     "text": [
      "[2.2336278706789017, 0.0, 2.2336278706789017, 0.0]\n",
      "4.467255741357803\n"
     ]
    }
   ],
   "source": [
    "# xyzt = xyzt.x\n",
    "def dRho(satellite):\n",
    "    return Minimizing.calc_rho(satellite, xyzt.x) + Constants.c * xyzt.x[3] / Minimizing.TimeCoefficient - satellite.rawx.prMes\n",
    "x = list([2 * Constants.c * dRho(satellite) for satellite in good_eph])\n",
    "print(x)\n",
    "print(sum(x))"
   ],
   "metadata": {
    "collapsed": false,
    "ExecuteTime": {
     "end_time": "2024-04-23T15:52:15.210890500Z",
     "start_time": "2024-04-23T15:52:15.071147700Z"
    }
   },
   "id": "2f7df727bf5e6896",
   "execution_count": 3
  },
  {
   "cell_type": "code",
   "outputs": [
    {
     "name": "stdout",
     "output_type": "stream",
     "text": [
      "579118.000331166\n",
      "[17, 2311, 147456, 0.013410091400146484, 0.008474349975585938, -2.6047928258776665e-09, 5153.6572265625, 0.5290583372116089, -0.4217498302459717, 0.8842452764511108, 0.0007104873657226562, 0.0, 0, 1, datetime.datetime(2024, 4, 20, 19, 51, 1, 480657, tzinfo=<DstTzInfo 'Europe/Moscow' MSK+3:00:00 STD>)]\n",
      "1.035696\n",
      "-173137.99966883403\n",
      "2.2100573269787347\n",
      "(-15490225.905241322, -4014787.60301065, 21593484.119341377)\n",
      "(53.50304789949836, -89.4898395210575, 20512127.890603006)\n",
      "[17, 2310, 583184, 583184, 8, 8, 232, -1.0118128557223827e-10, -2.5535200620652176e-09, -54.9375, 291.0625, 4.734843969345093e-06, -2.635642886161804e-06, 1.3969838619232178e-07, 1.9185245037078857e-07, 1.4808847481617704e-09, 0.3084875871427357, 0.013404096011072397, 5153.707925796509, -0.9651154428720474, 0.5678392145782709, -0.42194465594366193, 1.0803341865539551e-07, 0.0, -1.0231815394945443e-12, 0.0007107830606400967, 0, 0, datetime.datetime(2024, 4, 20, 19, 51, 24, 476365, tzinfo=<DstTzInfo 'Europe/Moscow' MSK+3:00:00 STD>)]\n",
      "1.1\n",
      "-4065.9996688340325\n",
      "2.210199240599181\n",
      "(-15489921.91203678, -4014860.142470004, 21593926.57235166)\n",
      "(53.50408154358399, -89.48931500494149, 20512319.376517903)\n"
     ]
    }
   ],
   "source": [
    "import SatellitesCoordinateCalculator as SCC\n",
    "from SatellitesCoordinateCalculator import *\n",
    "N = 2310\n",
    "i = 4\n",
    "print(TOW)\n",
    "print(good_eph[i].alm)\n",
    "# for k in np.arange(1.03569, 1.03570, 0.000001):\n",
    "#     print(k)\n",
    "k = 1.035696\n",
    "p1 = Acalc_sat_alm(good_eph[i].alm, TOW, N, k)\n",
    "print(p1)\n",
    "print(eci2lla(TOW, *p1))\n",
    "print(good_eph[i].eph)\n",
    "p2 = SCC.calc_sat_eph(good_eph[i].eph, TOW, N)\n",
    "print(p2)\n",
    "print(eci2lla(TOW, *p2))"
   ],
   "metadata": {
    "collapsed": false,
    "ExecuteTime": {
     "end_time": "2024-04-20T19:24:50.862823Z",
     "start_time": "2024-04-20T19:24:50.765132Z"
    }
   },
   "id": "ebc6055dffbfd47d",
   "execution_count": 30
  },
  {
   "cell_type": "code",
   "outputs": [],
   "source": [
    "def check_time(time, *args, **kwargs):\n",
    "    half_week = 302400.0\n",
    "    if time > half_week:\n",
    "        time -= 2 * half_week\n",
    "    elif time < - half_week:\n",
    "        time += 2 * half_week\n",
    "    return time\n",
    "\n",
    "def Acalc_sat_alm(ALM: list or None, time, N, k):\n",
    "    if ALM is None or not time or not N:\n",
    "        return None\n",
    "    # SV_ID, week, Toa, e, delta_i, Wdot, sqrtA, W0, w, M0, af0, af1, health, Data_ID, receiving_time = ALM\n",
    "    SV_ID = ALM[0]  # ID спутника\n",
    "    N0a = ALM[1]  # номер недели передаваемых данных\n",
    "    Toa = ALM[2]  # опорное время внутри недели N, на которую передаются данные альманах\n",
    "    e = ALM[3]  # эксцентриситет\n",
    "    di = ALM[4] * pi  # rad, поправка к наклонению\n",
    "    OmegaDot = ALM[5] * pi  # rad/s, скорость прецессии орбиты\n",
    "    sqrtA = ALM[6]  # корень из большей полуоси\n",
    "    Omega0 = ALM[7] * pi  # rad Угол восходящего узла на момент начала недели N\n",
    "    omega = ALM[8] * pi  # rad аргумент перигея\n",
    "    M0 = ALM[9] * pi  # rad средняя аномалия на эпоху Toa\n",
    "    af0 = ALM[10]  #\n",
    "    af1 = ALM[11]  #\n",
    "    health = ALM[12]  #\n",
    "    Data_ID = ALM[13]  #\n",
    "    receiving_time: datetime = ALM[14]  # время принятия сигнала\n",
    "\n",
    "    CORRECTION_FACTOR = k#1.1\n",
    "    print(CORRECTION_FACTOR)\n",
    "\n",
    "    OmegaEarthDot = Constants.OmegaEarthDot * CORRECTION_FACTOR\n",
    "\n",
    "    # mu = 3.9860044 * 1e14  # m^3/s^2 гравитационная постоянная для земли WGS-84\n",
    "    # OmegaEarthDot = 7.2921151467 * 10e-5  # rad/s скорость вращения земли WGS-84\n",
    "\n",
    "    i0 = 0.30 * pi  # rad\n",
    "\n",
    "    a = sqrtA ** 2  # большая полуось\n",
    "    n0 = sqrt(Constants.mu / a ** 3)  # rad/s вычисленное среднее перемещение\n",
    "\n",
    "    # TODO: добавить поправки генераторов\n",
    "    tk = (N - N0a) * 604800 + time - Toa  # + 3600 * 6\n",
    "    tk = check_time(tk)\n",
    "    print(tk)\n",
    "\n",
    "    Mk = M0 + n0 * tk  # средняя аномалия\n",
    "    ## Решение уравнения Mk = Ek - e * sin(Ek)\n",
    "    Ek = Mk  # rad\n",
    "    for i in range(20):\n",
    "        Ek = Ek + (Mk - Ek + e * sin(Ek)) / (1 - e * cos(Ek))\n",
    "    nu_k = atan2(\n",
    "        sqrt(1 - e * e) * sin(Ek) / (1 - e * cos(Ek)),\n",
    "        (cos(Ek) - e) / (1 - e * cos(Ek))\n",
    "    )\n",
    "    # r_k = a * (1 - e * cos(Ek)) / (1 + e * cos(Ek))\n",
    "    r_k = a * (1 - e * cos(Ek))\n",
    "    ik = i0 + di\n",
    "    Omega_k = Omega0 + (OmegaDot - OmegaEarthDot) * tk - OmegaEarthDot * Toa\n",
    "    print(Omega_k % pi)\n",
    "    p = a * (1 - e * e)\n",
    "    Vr = sqrt(Constants.mu / p) * e * sin(nu_k)\n",
    "    Vn = sqrt(Constants.mu / p) * (1 + e * cos(nu_k))\n",
    "    u_k = omega + nu_k\n",
    "\n",
    "    X = r_k * (cos(u_k) * cos(Omega_k) - sin(u_k) * sin(Omega_k) * cos(ik))\n",
    "    Y = r_k * (cos(u_k) * sin(Omega_k) + sin(u_k) * cos(Omega_k) * cos(ik))\n",
    "    Z = r_k * sin(u_k) * sin(ik)\n",
    "\n",
    "    return X, Y, Z"
   ],
   "metadata": {
    "collapsed": false,
    "ExecuteTime": {
     "end_time": "2024-04-20T19:15:33.751907200Z",
     "start_time": "2024-04-20T19:15:33.713664800Z"
    }
   },
   "id": "7f5bc0fcf724c9f",
   "execution_count": 10
  },
  {
   "cell_type": "code",
   "outputs": [],
   "source": [],
   "metadata": {
    "collapsed": false
   },
   "id": "4d99df194f35a66a"
  },
  {
   "cell_type": "code",
   "outputs": [],
   "source": [],
   "metadata": {
    "collapsed": false
   },
   "id": "d6914666bcaab5b8"
  },
  {
   "cell_type": "code",
   "outputs": [],
   "source": [],
   "metadata": {
    "collapsed": false
   },
   "id": "9f86f38096000c15"
  },
  {
   "cell_type": "code",
   "outputs": [
    {
     "name": "stderr",
     "output_type": "stream",
     "text": [
      "C:\\Users\\kippe\\AppData\\Local\\Temp\\ipykernel_12132\\1963245229.py:3: DeprecationWarning: \n",
      "Pyarrow will become a required dependency of pandas in the next major release of pandas (pandas 3.0),\n",
      "(to allow more performant data types, such as the Arrow string type, and better interoperability with other libraries)\n",
      "but was not found to be installed on your system.\n",
      "If this would cause problems for you,\n",
      "please provide us feedback at https://github.com/pandas-dev/pandas/issues/54466\n",
      "        \n",
      "  import pandas as pd\n"
     ]
    }
   ],
   "source": [
    "import pymap3d as pm\n",
    "import numpy as np\n",
    "import pandas as pd\n",
    "from math import pi, sqrt, sin, atan, atan2, cos, tan\n",
    "from Transformations import *\n",
    "from Constants import StartDate, LLA\n",
    "from datetime import timedelta, datetime"
   ],
   "metadata": {
    "collapsed": false,
    "ExecuteTime": {
     "end_time": "2024-04-17T13:27:53.376733400Z",
     "start_time": "2024-04-17T13:27:46.710281500Z"
    }
   },
   "id": "13e146bcaf5a9698",
   "execution_count": 3
  },
  {
   "cell_type": "code",
   "outputs": [],
   "source": [
    "def check_t(time, *args, **kwargs):\n",
    "    half_week = 302400.0\n",
    "    if time > half_week:\n",
    "        time -= 2 * half_week\n",
    "    elif time < - half_week:\n",
    "        time += 2 * half_week\n",
    "    return time\n",
    "def calc_sat_alm(ALM: list, time, N, k = 1):\n",
    "    # SV_ID, week, Toa, e, delta_i, Wdot, sqrtA, W0, w, M0, af0, af1, health, Data_ID, receiving_time = ALM\n",
    "    SV_ID = ALM[0]  # ID спутника\n",
    "    N0a = ALM[1]  # номер недели передаваемых данных\n",
    "    Toa = ALM[2]  # опорное время внутри недели N, на которую передаются данные альманах\n",
    "    e = ALM[3]  # эксцентриситет\n",
    "    di = ALM[4] * pi  # rad, поправка к наклонению\n",
    "    OmegaDot = ALM[5] * pi  # rad/s, скорость прецессии орбиты\n",
    "    sqrtA = ALM[6]  # корень из большей полуоси\n",
    "    Omega0 = ALM[7] * pi  # rad Угол восходящего узла на момент начала недели N\n",
    "    omega = ALM[8] * pi  # rad аргумент перигея\n",
    "    M0 = ALM[9] * pi  # rad средняя аномалия на эпоху Toa\n",
    "    af0 = ALM[10]  #\n",
    "    af1 = ALM[11]  #\n",
    "    health = ALM[12]  #\n",
    "    Data_ID = ALM[13]  #\n",
    "    receiving_time: datetime = ALM[14]  # время принятия сигнала\n",
    "\n",
    "    mu = 3.9860044 * 1e14  # m^3/s^2 гравитационная постоянная для земли WGS-84\n",
    "    # OmegaEathDot = 7.2921151467 * 10e-5 * 1.1 # rad/s скорость вращения земли WGS-84\n",
    "    from Constants import OmegaEarthDot\n",
    "    OmegaEathDot = OmegaEarthDot * 1.1\n",
    "    \n",
    "    i0 = 0.30 * pi  # rad\n",
    "\n",
    "    a = sqrtA ** 2  # большая полуось\n",
    "    n0 = sqrt(mu / a ** 3)  # rad/s вычисленное среднее перемещение\n",
    "\n",
    "    \n",
    "    tk = (N - N0a) * 604800 + time - Toa \n",
    "    tk = tk#+ 2.6 * 60 * 60\n",
    "    Mk = M0 + n0 * tk  # средняя аномалия\n",
    "    ## Решение уравнения Mk = Ek - e * sin(Ek)\n",
    "    Ek = Mk  # rad\n",
    "    for i in range(20):\n",
    "        Ek = Ek + (Mk - Ek + e * sin(Ek)) / (1 - e * cos(Ek))\n",
    "    nu_k = atan2(\n",
    "        sqrt(1 - e * e) * sin(Ek) / (1 - e * cos(Ek)),\n",
    "        (cos(Ek) - e) / (1 - e * cos(Ek))\n",
    "    )\n",
    "    r_k = a * (1 - e * cos(Ek)) / (1 + e * cos(Ek))\n",
    "    ik = i0 + di\n",
    "    Omega_k = Omega0 + (OmegaDot - OmegaEathDot) * tk - OmegaEathDot * Toa #+ 0.1 * OmegaEarthDot * time\n",
    "    # print(Omega0 * 180/pi)\n",
    "    # print((OmegaDot - OmegaEathDot) * tk * 180 / pi)\n",
    "    # print(tk)\n",
    "    # print( (-OmegaEathDot * Toa * 180 / pi) % 360)\n",
    "    # print((Omega_k * 180 / pi) %  360)\n",
    "    u_k = omega + nu_k\n",
    "\n",
    "    X = r_k * (cos(u_k) * cos(Omega_k) - sin(u_k) * sin(Omega_k) * cos(ik))\n",
    "    Y = r_k * (cos(u_k) * sin(Omega_k) + sin(u_k) * cos(Omega_k) * cos(ik))\n",
    "    Z = r_k * sin(u_k) * sin(ik)\n",
    "\n",
    "    return (X, Y, Z)\n",
    "\n",
    "def calc_sat_eph(EPH: list, time, N, flag=True):\n",
    "    SV_ID = EPH[0]\n",
    "    Noe = EPH[1]\n",
    "    Toe = EPH[2]\n",
    "    Toc = EPH[3]\n",
    "    IODE1 = EPH[4]\n",
    "    IODE2 = EPH[5]\n",
    "    IODC = EPH[6]\n",
    "    IDOT = EPH[7] * pi\n",
    "    OmegaDot = EPH[8] * pi\n",
    "    Crs = EPH[9]\n",
    "    Crc = EPH[10]\n",
    "    Cus = EPH[11]\n",
    "    Cuc = EPH[12]\n",
    "    Cis = EPH[13]\n",
    "    Cic = EPH[14]\n",
    "    dn = EPH[15] * pi\n",
    "    i0 = EPH[16] * pi\n",
    "    e = EPH[17]\n",
    "    sqrtA = EPH[18]\n",
    "    M0 = EPH[19] * pi\n",
    "    Omega0 = EPH[20] * pi\n",
    "    omega = EPH[21] * pi\n",
    "    Tgd = EPH[22]\n",
    "    af2 = EPH[23]\n",
    "    af1 = EPH[24]\n",
    "    af0 = EPH[25]\n",
    "    health = EPH[26]\n",
    "    accuracy = EPH[27]\n",
    "    receiving_time = EPH[28]\n",
    "    \n",
    "    CORRECTION_FACTOR = 1.1\n",
    "    \n",
    "\n",
    "    a = sqrtA ** 2  # большая полуось\n",
    "    n0 = sqrt(Constants.mu / a ** 3)  # rad/s вычисленное среднее перемещение\n",
    "    n = n0 + dn  # скорректированное средне движение\n",
    "    t = time\n",
    "    # TODO: добавить поправки генераторов\n",
    "    tk = 0 * 604800 + time - Toe\n",
    "    print(tk)\n",
    "    dt = check_t(time - Toc)\n",
    "    satNr = (af2 * dt + af1) * dt + af0 - Tgd\n",
    "    time = time - satNr\n",
    "    tk = check_t(time - Toe)\n",
    "    print(tk)\n",
    "\n",
    "    Mk = M0 + n * tk  # средняя аномалия\n",
    "    ## Решение уравнения Mk = Ek - e * sin(Ek)\n",
    "    Ek = Mk  # rad\n",
    "    for i in range(20):\n",
    "        Ek = Ek + (Mk - Ek + e * sin(Ek)) / (1 - e * cos(Ek))\n",
    "\n",
    "    nu_k = atan2(\n",
    "        sqrt(1 - e * e) * sin(Ek) / (1 - e * cos(Ek)),\n",
    "        (cos(Ek) - e) / (1 - e * cos(Ek))\n",
    "    )\n",
    "    Phi_k = nu_k + omega  # аргумент lat\n",
    "    r_k = a * (1 - e * cos(Ek))\n",
    "    ik = i0 + IDOT * tk\n",
    "    OmegaEarthDot = Constants.OmegaEarthDot * CORRECTION_FACTOR\n",
    "    Omega_k = Omega0 + (OmegaDot - OmegaEarthDot) * tk - OmegaEarthDot * Toe\n",
    "    du_k = Cuc * cos(2 * Phi_k) + Cus * sin(2 * Phi_k)\n",
    "    dr_k = Crc * cos(2 * Phi_k) + Crs * sin(2 * Phi_k)\n",
    "    di_k = Cic * cos(2 * Phi_k) + Cis * sin(2 * Phi_k)\n",
    "\n",
    "    u_k = Phi_k + du_k\n",
    "    r_k = r_k + dr_k\n",
    "    ik = ik + di_k\n",
    "\n",
    "    X = r_k * (cos(u_k) * cos(Omega_k) - sin(u_k) * sin(Omega_k) * cos(ik))\n",
    "    Y = r_k * (cos(u_k) * sin(Omega_k) + sin(u_k) * cos(Omega_k) * cos(ik))\n",
    "    Z = r_k * sin(u_k) * sin(ik)\n",
    "\n",
    "    return X, Y, Z"
   ],
   "metadata": {
    "collapsed": false,
    "ExecuteTime": {
     "end_time": "2024-04-17T13:32:59.134807600Z",
     "start_time": "2024-04-17T13:32:59.051703200Z"
    }
   },
   "id": "a827a0187ad45764",
   "execution_count": 8
  },
  {
   "cell_type": "code",
   "outputs": [
    {
     "name": "stdout",
     "output_type": "stream",
     "text": [
      "Moscow time: 5:00\n",
      "UTC time: 2:00\n",
      "ECEF from site LLA: [7043, 25226, -4516] km\n",
      "ECEF from site AER: [6438, 24904, -4610] km\n",
      "ECEF from ALM: [7031, 25186, -4471] with Earth k = 1.1\n",
      "7200\n",
      "7199.999840438395\n",
      "ECEF from ALM: [7035, 25201, -4473] with Earth k = 1.1\n",
      "(7035217.596797438, 25201843.625571836, -4473310.712375888)\n"
     ]
    }
   ],
   "source": [
    "moscow_time_hours = 5\n",
    "\n",
    "lat =  -9.8\n",
    "lon = 74.4\n",
    "\n",
    "azim = 141\n",
    "elev = 3\n",
    "rad = 25000\n",
    "\n",
    "\n",
    "# moscow_time_hours = 23\n",
    "# \n",
    "# lat = 10.5\n",
    "# lon = -15.7\n",
    "# \n",
    "# azim = 244\n",
    "# elev = 15\n",
    "# rad = 24173\n",
    "\n",
    "\n",
    "print(f'Moscow time: {moscow_time_hours}:00')\n",
    "print(f'UTC time: {moscow_time_hours - 3}:00')\n",
    "TOW = moscow_time_hours * 3600 - 3600 * 3\n",
    "# alm =[9, 2310, 233472, 0.0026683807373046875, 0.0048961639404296875, -2.5029294192790985e-09, 5153.63623046875, -0.4584728479385376, 0.635661244392395, 0.9340482950210571, 0.00016307830810546875, 1.4551915228366852e-11, 0, 1, datetime.now()]\n",
    "alm = [9, 2310, 147456, 0.002669811248779297, 0.004894256591796875, -2.4883775040507317e-09, 5153.63623046875, -0.4582533836364746, 0.6358199119567871, 0.940352201461792, 0.00016117095947265625, 1.4551915228366852e-11, 0, 1, datetime.now()] \n",
    "\n",
    "eph =[9, 262, 0, 0, 74, 74, 2, 7.537437340943143e-11, -2.543060872994829e-09, -25.65625, 221.875, 8.085742592811584e-06, -1.4491379261016846e-06, -7.264316082000732e-08, -3.5390257835388184e-08, 1.463831722503528e-09, 0.3048875015228987, 0.0026726502692326903, 5153.685857772827, 0.09409773629158735, -0.4578785211779177, 0.6360140475444496, 9.313225746154785e-10, 0.0, 1.3642420526593924e-11, 0.00015946431085467339, 0, 0, datetime.now()]\n",
    "\n",
    "ecef1 = np.array(lla2ecef(lat, lon, 20200 * 1000))\n",
    "# ecef1 = ecef2eci(time, *eci1)\n",
    "\n",
    "print(f'ECEF from site LLA: {list(map(int, np.array(ecef1) / 1000))} km')\n",
    "\n",
    "ecef2 = pm.aer2ecef(azim, elev, rad * 1000, *LLA)\n",
    "\n",
    "print(f'ECEF from site AER: {list(map(int, np.array(ecef2) / 1000))} km')\n",
    "\n",
    "eci3 = calc_sat_alm(alm, TOW, 2310)\n",
    "# print(f'ECI from ALM: {list(map(int, np.array(eci3) / 1000))}')\n",
    "ecef3 = eci2ecef(TOW, *eci3)\n",
    "print(f'ECEF from ALM: {list(map(int, np.array(ecef3) / 1000))} with Earth k = {1.1}')\n",
    "\n",
    "eci4 = calc_sat_eph(eph, TOW, 2310)\n",
    "# print(f'ECI from ALM: {list(map(int, np.array(eci3) / 1000))}')\n",
    "ecef4 = eci2ecef(TOW, *eci4)\n",
    "print(f'ECEF from ALM: {list(map(int, np.array(ecef4) / 1000))} with Earth k = {1.1}')\n",
    "xyz = ecef4\n",
    "print(xyz)"
   ],
   "metadata": {
    "collapsed": false,
    "ExecuteTime": {
     "end_time": "2024-04-17T13:37:03.966697500Z",
     "start_time": "2024-04-17T13:37:03.925154Z"
    }
   },
   "id": "39bcde335a278771",
   "execution_count": 11
  },
  {
   "cell_type": "code",
   "outputs": [],
   "source": [
    "\n"
   ],
   "metadata": {
    "collapsed": false,
    "ExecuteTime": {
     "end_time": "2024-04-17T13:36:54.550493200Z",
     "start_time": "2024-04-17T13:36:54.498840800Z"
    }
   },
   "id": "937dc67cd1e711ac",
   "execution_count": 10
  },
  {
   "cell_type": "code",
   "outputs": [
    {
     "name": "stdout",
     "output_type": "stream",
     "text": [
      "22329386.161617927\n",
      "2.442704117014386e-08 0.09178705639247853 -6274.821828282904\n",
      "7549227871.433087\n",
      "6378099.537119053\n"
     ]
    }
   ],
   "source": [
    "import numpy as np\n",
    "from math import sqrt\n",
    "def calc_dist(elev):\n",
    "    r = Constants.ApproximateEarthRadius\n",
    "    h = Constants.GPSAltitude\n",
    "    if elev == -91:\n",
    "        return np.nan\n",
    "    dist = 0.5 * (\n",
    "            np.sqrt(2) * np.sqrt(2 * h * h + 4 * h * r + r * r - r * r * np.cos(2 * elev * np.pi / 180)) -\n",
    "            2 * r * np.sin(elev * np.pi / 180))\n",
    "    return dist * 1000\n",
    "from Transformations import Raer2ned\n",
    "import Constants\n",
    "def calc_dist2(azim, elev):\n",
    "    Re = Raer2ned(Constants.LLA[0], Constants.LLA[1], azim, elev)\n",
    "    a2 = (Constants.a + Constants.GPSAltitude) / 1000\n",
    "    b2 = (Constants.b + Constants.GPSAltitude) / 1000\n",
    "    x, y, z = lla2ecef(*Constants.LLA)\n",
    "    a = (Re[0]**2 + Re[1]**2)/a2**2 + Re[2]**2/b2**2\n",
    "    b = (x*Re[0] + y*Re[1])/a2**2 + z*Re[2]/b2**2\n",
    "    c = (x**2+y**2)/a2**2 + z**2/b2**2 - 1 * 1000**2\n",
    "    \n",
    "    print(a, b, c)\n",
    "    D = b**2 - a * c\n",
    "    R = (b + sqrt(D)) / a * 1000\n",
    "    print(R)\n",
    "    return 1 / sqrt( Re[0]**2/Constants.a**2 + Re[1]**2/Constants.a**2 + Re[2]**2/Constants.b**2)\n",
    "print(calc_dist(36))\n",
    "print(calc_dist2(193, 36))"
   ],
   "metadata": {
    "collapsed": false,
    "ExecuteTime": {
     "end_time": "2024-04-16T18:29:33.310820800Z",
     "start_time": "2024-04-16T18:29:33.255698500Z"
    }
   },
   "id": "6fbfebb885cf1a96",
   "execution_count": 9
  },
  {
   "cell_type": "code",
   "outputs": [
    {
     "ename": "ImportError",
     "evalue": "cannot import name 'aer2ecef' from 'Transformations' (C:\\Users\\kippe\\PycharmProjects\\raspi_GPS_2\\Transformations.py)",
     "output_type": "error",
     "traceback": [
      "\u001B[1;31m---------------------------------------------------------------------------\u001B[0m",
      "\u001B[1;31mImportError\u001B[0m                               Traceback (most recent call last)",
      "Cell \u001B[1;32mIn[10], line 1\u001B[0m\n\u001B[1;32m----> 1\u001B[0m \u001B[38;5;28;01mfrom\u001B[39;00m \u001B[38;5;21;01mTransformations\u001B[39;00m \u001B[38;5;28;01mimport\u001B[39;00m aer2ecef, lla2ecef\n\u001B[0;32m      2\u001B[0m \u001B[38;5;28;01mimport\u001B[39;00m \u001B[38;5;21;01mConstants\u001B[39;00m\n\u001B[0;32m      3\u001B[0m \u001B[38;5;28mprint\u001B[39m(aer2ecef(\u001B[38;5;241m206\u001B[39m, \u001B[38;5;241m56\u001B[39m, \u001B[38;5;241m21068\u001B[39m\u001B[38;5;241m*\u001B[39m\u001B[38;5;241m1000\u001B[39m, \u001B[38;5;241m*\u001B[39mConstants\u001B[38;5;241m.\u001B[39mLLA))\n",
      "\u001B[1;31mImportError\u001B[0m: cannot import name 'aer2ecef' from 'Transformations' (C:\\Users\\kippe\\PycharmProjects\\raspi_GPS_2\\Transformations.py)"
     ]
    }
   ],
   "source": [
    "from Transformations import aer2ecef, lla2ecef\n",
    "import Constants\n",
    "print(aer2ecef(206, 56, 21068*1000, *Constants.LLA))\n",
    "print(lla2ecef(31.3, 24.2, 20222*1000))"
   ],
   "metadata": {
    "collapsed": false,
    "ExecuteTime": {
     "end_time": "2024-04-16T18:30:10.350388200Z",
     "start_time": "2024-04-16T18:30:10.231416100Z"
    }
   },
   "id": "78aa7a127b1b5d78",
   "execution_count": 10
  },
  {
   "cell_type": "code",
   "outputs": [],
   "source": [],
   "metadata": {
    "collapsed": false
   },
   "id": "a014e4c374198fb2"
  },
  {
   "cell_type": "code",
   "outputs": [],
   "source": [
    "def Raer2ned(phi, lam, azim, elev):\n",
    "    phi = np.radians(phi)\n",
    "    lam = np.radians(lam)\n",
    "    az_rad = radians(azim)\n",
    "    el_rad = radians(elev)\n",
    "    return np.array([\n",
    "        [-sin(phi) * cos(lam), -sin(phi) * sin(lam), cos(phi)],\n",
    "        [-sin(lam), cos(lam), 0],\n",
    "        [-cos(phi) * cos(lam), -cos(phi) * sin(lam), -sin(phi)],\n",
    "    ]) @ [cos(az_rad) * cos(el_rad), sin(az_rad) * cos(el_rad), -sin(el_rad)]\n",
    "\n",
    "\n",
    "def aer2ecef(azim, elev, dist, lat, lon, alt):\n",
    "    UVW = Raer2ned(lat, lon, azim, elev) * dist\n",
    "    XYZ = lla2ecef(lat, lon, alt)\n",
    "    ECEF = UVW + XYZ\n",
    "    return ECEF"
   ],
   "metadata": {
    "collapsed": false
   },
   "id": "d18d91749085ad03"
  },
  {
   "cell_type": "code",
   "outputs": [],
   "source": [],
   "metadata": {
    "collapsed": false
   },
   "id": "c6d8c58a0befadb8"
  },
  {
   "cell_type": "code",
   "outputs": [],
   "source": [],
   "metadata": {
    "collapsed": false
   },
   "id": "24cbc0dc7c36feb4"
  },
  {
   "cell_type": "code",
   "outputs": [],
   "source": [],
   "metadata": {
    "collapsed": false
   },
   "id": "6a22c47c21b0934f"
  },
  {
   "cell_type": "code",
   "outputs": [
    {
     "data": {
      "text/plain": "<Figure size 1600x600 with 6 Axes>",
      "image/png": "[encoded data removed]"
     },
     "metadata": {},
     "output_type": "display_data"
    }
   ],
   "source": [
    "df = pd.read_csv('sat12.csv', sep=';')#, names=['tow', 'azim', 'elev', 'dist', 'x', 'y', 'z'], sep=';')\n",
    "print(df.tail())\n",
    "from math import atan, pi\n",
    "\n",
    "\n",
    "fig, axs = plt.subplots(3, 2, figsize=(16, 6))\n",
    "axs[0, 0].plot(df.TOW/3600, df.azim, label='azim')#, s=0.3)\n",
    "axs[0, 0].legend()\n",
    "axs[1, 0].plot(df.TOW/3600, df.elev, label='elev')#, s=0.3)\n",
    "axs[1, 0].legend()\n",
    "axs[2, 0].plot(df.TOW/3600, df.dist, label='dist')#, s=0.3)\n",
    "axs[2, 0].legend()\n",
    "axs[0, 1].plot(df.TOW/3600, df.ubx_ecef.apply(lambda x: x[0]), label='x')#, s=0.3)\n",
    "axs[0, 1].legend()\n",
    "axs[1, 1].plot(df.TOW/3600, df.ubx_ecef.apply(lambda x: x[1]), label='y')#, s=0.3)\n",
    "axs[1, 1].legend()\n",
    "axs[2, 1].plot(df.TOW/3600, df.ubx_ecef.apply(lambda x: x[2]), label='z')#, s=0.3)\n",
    "axs[2, 1].legend()\n",
    "plt.savefig('sat12dasd.png')\n",
    "plt.show()\n"
   ],
   "metadata": {
    "collapsed": false,
    "ExecuteTime": {
     "end_time": "2024-04-03T09:44:30.341503600Z",
     "start_time": "2024-04-03T09:44:25.334952200Z"
    }
   },
   "id": "4ca7b0557d3fb93a",
   "execution_count": 60
  },
  {
   "cell_type": "code",
   "outputs": [
    {
     "name": "stderr",
     "output_type": "stream",
     "text": [
      "C:\\Users\\kippe\\AppData\\Local\\Temp\\ipykernel_170088\\3806937105.py:1: DeprecationWarning: \n",
      "Pyarrow will become a required dependency of pandas in the next major release of pandas (pandas 3.0),\n",
      "(to allow more performant data types, such as the Arrow string type, and better interoperability with other libraries)\n",
      "but was not found to be installed on your system.\n",
      "If this would cause problems for you,\n",
      "please provide us feedback at https://github.com/pandas-dev/pandas/issues/54466\n",
      "        \n",
      "  import pandas as pd\n"
     ]
    }
   ],
   "source": [
    "import pandas as pd\n",
    "import numpy as np\n",
    "import matplotlib.pyplot as plt\n",
    "DF = pd.read_csv('sat_raw_calc_data.txt', sep=';', header=None,\n",
    "                     names=['svId', 'gnssId', 'TOW', 'alm_x', 'alm_y', 'alm_z', 'eph_x', 'eph_y', 'eph_z',\n",
    "                            'elev', 'azim', 'doMes', 'cpMes', 'prMes'])\n",
    "DF = DF[DF.gnssId == 'GNSS.GPS']\n",
    "\n",
    "\n"
   ],
   "metadata": {
    "collapsed": false,
    "ExecuteTime": {
     "end_time": "2024-04-16T06:04:11.740459800Z",
     "start_time": "2024-04-16T06:03:50.215742200Z"
    }
   },
   "id": "d88810980a6752e3",
   "execution_count": 1
  },
  {
   "cell_type": "code",
   "outputs": [
    {
     "data": {
      "text/plain": "<Figure size 1000x600 with 2 Axes>",
      "image/png": "[encoded data removed]"
     },
     "metadata": {},
     "output_type": "display_data"
    }
   ],
   "source": [
    "import pymap3d as pm\n",
    "from Constants import LLA\n",
    "from Constants import StartDate\n",
    "from datetime import timedelta\n",
    "\n",
    "NUM_SAT = 8\n",
    "df = DF[DF.svId == NUM_SAT]\n",
    "df = df[df.elev != -91]\n",
    "\n",
    "# def func(row):\n",
    "#     breakpoint()\n",
    "#     res = pm.eci2aer(row.alm_x, row.alm_y, row.alm_z, *LLA, row.TOW/3600)\n",
    "#     return res\n",
    "# df['aer_alm'] = df.apply(func, axis=1)\n",
    "\n",
    "# df['aer_alm'] = df.apply(\n",
    "#     lambda row: pm.eci2aer(row.alm_x, row.alm_y, row.alm_z, *LLA, StartDate + timedelta(seconds=24*3600)), \n",
    "#     axis=1)\n",
    "# df['aer_eph'] = df.apply(\n",
    "#     lambda row: pm.eci2aer(row.eph_x, row.eph_y, row.eph_z, *LLA, StartDate + timedelta(seconds=24*3600)), \n",
    "#     axis=1)\n",
    "\n",
    "df.loc[df['TOW'] > 50 * 3600, 'TOW'] -= 3600 * 24 * 7\n",
    "htime = df.TOW / 3600\n",
    "\n",
    "fig, axs = plt.subplots(2, figsize=(10, 6))\n",
    "fig.suptitle(f'Satellite #{NUM_SAT}')\n",
    "\n",
    "axs[0].plot(df.TOW/3600, df.azim, linewidth=3, label='ubx')#, s=0.3)\n",
    "# axs[0].plot(df.TOW/3600, df.aer_alm.apply(lambda x: x[0]), linewidth=3, label='alm')#, s=0.3)\n",
    "# axs[0].plot(df.TOW/3600, df.aer_eph.apply(lambda x: x[0]), linewidth=3, label='eph')#, s=0.3)\n",
    "axs[0].legend()\n",
    "\n",
    "axs[1].plot(df.TOW/3600, df.elev, linewidth=3, label='ubx')#, s=0.3)\n",
    "# axs[1].plot(df.TOW/3600, df.aer_alm.apply(lambda x: x[1]), linewidth=3, label='alm')#, s=0.3)\n",
    "# axs[1].plot(df.TOW/3600, df.aer_eph.apply(lambda x: x[1]), linewidth=3, label='eph')#, s=0.3)\n",
    "axs[1].legend()\n",
    "\n",
    "for i in range(2):\n",
    "    ymax = axs[i].get_ylim()[1]\n",
    "    for t in np.arange(min(htime), max(htime), 12.0):\n",
    "        axs[i].axvline(x=t, color='y', linewidth=1)\n",
    "        # axs[i].annotate(f'{round(t - min(htime)): 2} ч', (t, ymax*0.95), color='y')\n",
    "        axs[i].text(t, ymax * 1.1, f'{round(t - min(htime)): 2} ч', color='y', ha='center')\n",
    "    axs[i].grid(which='minor')\n",
    "    axs[i].grid(which='major', linewidth=2)\n",
    "    axs[i].minorticks_on()\n",
    "axs[0].set_title('azim')\n",
    "axs[1].set_title('elev')\n",
    "axs[1].set_xlabel('t, hours')\n",
    "axs[0].set_ylabel('azim, degrees')\n",
    "axs[1].set_ylabel('elev, degrees')\n",
    "plt.tight_layout()\n",
    "\n",
    "plt.savefig('sat_azim_elev.png', dpi=600)\n",
    "plt.show()"
   ],
   "metadata": {
    "collapsed": false,
    "ExecuteTime": {
     "end_time": "2024-04-15T19:08:39.929190700Z",
     "start_time": "2024-04-15T19:08:35.663006800Z"
    }
   },
   "id": "cb2d3f435639ca53",
   "execution_count": 4
  },
  {
   "cell_type": "code",
   "outputs": [
    {
     "name": "stdout",
     "output_type": "stream",
     "text": [
      "ECEF from site LLA: [25092, 6723, 4573] km\n",
      "ECEF from site AER: [25092, 6723, 4573] km\n"
     ]
    }
   ],
   "source": [
    "import pymap3d as pm\n",
    "import numpy as np\n",
    "from Transformations import *\n",
    "from Constants import StartDate, LLA\n",
    "from datetime import timedelta\n",
    "lat = 10\n",
    "lon = 15\n",
    "# time = 3600 * 3\n",
    "\n",
    "azim = 0\n",
    "elev = 0\n",
    "rad = 0\n",
    "\n",
    "ecef1 = np.array(lla2ecef(lat, lon, 20e6))\n",
    "# ecef1 = ecef2eci(time, *eci1)\n",
    "\n",
    "print(f'ECEF from site LLA: {list(map(int, np.array(ecef1) / 1000))} km')\n",
    "\n",
    "ecef2 = pm.aer2ecef(azim, elev, rad, *LLA)\n",
    "\n",
    "print(f'ECEF from site AER: {list(map(int, np.array(ecef1) / 1000))} km')"
   ],
   "metadata": {
    "collapsed": false,
    "ExecuteTime": {
     "end_time": "2024-04-16T06:22:53.170149800Z",
     "start_time": "2024-04-16T06:22:53.126060Z"
    }
   },
   "id": "8383cc1f78c017ae",
   "execution_count": 7
  },
  {
   "cell_type": "code",
   "outputs": [],
   "source": [],
   "metadata": {
    "collapsed": false,
    "ExecuteTime": {
     "end_time": "2024-04-15T19:05:25.715406Z",
     "start_time": "2024-04-15T19:05:25.678230600Z"
    }
   },
   "id": "773e0b9f035ab503",
   "execution_count": null
  },
  {
   "cell_type": "code",
   "outputs": [],
   "source": [],
   "metadata": {
    "collapsed": false,
    "ExecuteTime": {
     "end_time": "2024-04-15T19:05:25.722662400Z",
     "start_time": "2024-04-15T19:05:25.688534100Z"
    }
   },
   "id": "39e0d47d568d7fac",
   "execution_count": null
  },
  {
   "cell_type": "code",
   "outputs": [
    {
     "data": {
      "text/plain": "   Unnamed: 0        TOW     az    el      az_cor     el_cor\n0           0  46308.999  143.0  24.0  315.253911 -29.621162\n1           1  46309.999  143.0  24.0  315.249931 -29.619684\n2           2  46311.000  143.0  24.0  315.245946 -29.618204\n3           3  46312.000  143.0  24.0  315.241966 -29.616725\n4           4  46313.000  143.0  24.0  315.237986 -29.615247",
      "text/html": "<div>\n<style scoped>\n    .dataframe tbody tr th:only-of-type {\n        vertical-align: middle;\n    }\n\n    .dataframe tbody tr th {\n        vertical-align: top;\n    }\n\n    .dataframe thead th {\n        text-align: right;\n    }\n</style>\n<table border=\"1\" class=\"dataframe\">\n  <thead>\n    <tr style=\"text-align: right;\">\n      <th></th>\n      <th>Unnamed: 0</th>\n      <th>TOW</th>\n      <th>az</th>\n      <th>el</th>\n      <th>az_cor</th>\n      <th>el_cor</th>\n    </tr>\n  </thead>\n  <tbody>\n    <tr>\n      <th>0</th>\n      <td>0</td>\n      <td>46308.999</td>\n      <td>143.0</td>\n      <td>24.0</td>\n      <td>315.253911</td>\n      <td>-29.621162</td>\n    </tr>\n    <tr>\n      <th>1</th>\n      <td>1</td>\n      <td>46309.999</td>\n      <td>143.0</td>\n      <td>24.0</td>\n      <td>315.249931</td>\n      <td>-29.619684</td>\n    </tr>\n    <tr>\n      <th>2</th>\n      <td>2</td>\n      <td>46311.000</td>\n      <td>143.0</td>\n      <td>24.0</td>\n      <td>315.245946</td>\n      <td>-29.618204</td>\n    </tr>\n    <tr>\n      <th>3</th>\n      <td>3</td>\n      <td>46312.000</td>\n      <td>143.0</td>\n      <td>24.0</td>\n      <td>315.241966</td>\n      <td>-29.616725</td>\n    </tr>\n    <tr>\n      <th>4</th>\n      <td>4</td>\n      <td>46313.000</td>\n      <td>143.0</td>\n      <td>24.0</td>\n      <td>315.237986</td>\n      <td>-29.615247</td>\n    </tr>\n  </tbody>\n</table>\n</div>"
     },
     "execution_count": 46,
     "metadata": {},
     "output_type": "execute_result"
    }
   ],
   "source": [
    "df = pd.read_csv('sat12.csv', sep=';')\n",
    "df.head()"
   ],
   "metadata": {
    "collapsed": false,
    "ExecuteTime": {
     "end_time": "2024-04-05T14:14:33.748639400Z",
     "start_time": "2024-04-05T14:14:33.669341300Z"
    }
   },
   "id": "3a9ffe716a2aced5",
   "execution_count": 46
  },
  {
   "cell_type": "code",
   "outputs": [
    {
     "name": "stderr",
     "output_type": "stream",
     "text": [
      "C:\\Users\\kippe\\AppData\\Local\\Temp\\ipykernel_49140\\2947557027.py:1: UserWarning: Pandas doesn't allow columns to be created via a new attribute name - see https://pandas.pydata.org/pandas-docs/stable/indexing.html#attribute-access\n",
      "  df.htime = df.TOW / 3600\n"
     ]
    },
    {
     "data": {
      "text/plain": "<Figure size 1000x600 with 2 Axes>",
      "image/png": "[encoded data removed]"
     },
     "metadata": {},
     "output_type": "display_data"
    }
   ],
   "source": [
    "df.htime = df.TOW / 3600\n",
    "fig, axs = plt.subplots(2, figsize=(10, 6))\n",
    "fig.suptitle('Azim and elev for SV 12')\n",
    "\n",
    "axs[0].plot(df.htime, df.el, label='elev', marker='.')\n",
    "axs[1].plot(df.htime, df.az, label='azim', marker='.')\n",
    "axs[0].plot(df.htime, df.el_cor, label='elev corrected', marker='.')\n",
    "axs[1].plot(df.htime, df.az_cor, label='azim corrected', marker='.')\n",
    "\n",
    "for i in range(2):\n",
    "    ymax = axs[i].get_ylim()[1]\n",
    "    for t in np.arange(min(df.htime), max(df.htime), 12.0):\n",
    "        axs[i].axvline(x=t, color='y', linewidth=1)\n",
    "        # axs[i].annotate(f'{round(t - min(htime)): 2} ч', (t, ymax*0.95), color='y')\n",
    "        axs[i].text(t, ymax * 1.1, f'{round(t - min(df.htime)): 2} h', color='y', ha='center')\n",
    "axs[0].legend(loc='upper right')\n",
    "axs[1].legend(loc='upper right')\n",
    "axs[0].set_title('Elevation')\n",
    "axs[0].set_title('Azimuth')\n",
    "axs[1].set_xlabel('t, hours')\n",
    "axs[0].set_ylabel('elev, degrees')\n",
    "axs[1].set_ylabel('azim, degrees')\n",
    "plt.tight_layout()\n",
    "plt.savefig('sat12.png', dpi=500)\n",
    "plt.show()\n"
   ],
   "metadata": {
    "collapsed": false,
    "ExecuteTime": {
     "end_time": "2024-04-05T14:14:39.481260200Z",
     "start_time": "2024-04-05T14:14:34.809818500Z"
    }
   },
   "id": "de905d5f14b6d50b",
   "execution_count": 47
  },
  {
   "cell_type": "code",
   "outputs": [],
   "source": [],
   "metadata": {
    "collapsed": false,
    "ExecuteTime": {
     "end_time": "2024-04-16T06:23:19.643572Z",
     "start_time": "2024-04-16T06:23:19.598669500Z"
    }
   },
   "id": "8df853a7b0533632",
   "execution_count": 7
  },
  {
   "cell_type": "code",
   "outputs": [],
   "source": [],
   "metadata": {
    "collapsed": false,
    "ExecuteTime": {
     "end_time": "2024-04-16T06:23:40.052619400Z",
     "start_time": "2024-04-16T06:23:40.015866100Z"
    }
   },
   "id": "1cdc0800eefc0f54",
   "execution_count": 7
  },
  {
   "cell_type": "code",
   "outputs": [],
   "source": [],
   "metadata": {
    "collapsed": false,
    "ExecuteTime": {
     "end_time": "2024-04-16T06:23:40.366626900Z",
     "start_time": "2024-04-16T06:23:40.347207900Z"
    }
   },
   "id": "b9c1904e66599179",
   "execution_count": 7
  },
  {
   "cell_type": "code",
   "outputs": [],
   "source": [],
   "metadata": {
    "collapsed": false,
    "ExecuteTime": {
     "end_time": "2024-04-16T06:23:40.675662300Z",
     "start_time": "2024-04-16T06:23:40.651473500Z"
    }
   },
   "id": "4e7d85acc61ff985",
   "execution_count": 7
  },
  {
   "cell_type": "code",
   "outputs": [],
   "source": [],
   "metadata": {
    "collapsed": false,
    "ExecuteTime": {
     "end_time": "2024-04-16T06:23:41.329157600Z",
     "start_time": "2024-04-16T06:23:41.315260800Z"
    }
   },
   "id": "b0e1cf0495085c15",
   "execution_count": 7
  },
  {
   "cell_type": "code",
   "outputs": [],
   "source": [],
   "metadata": {
    "collapsed": false,
    "ExecuteTime": {
     "end_time": "2024-04-16T06:23:46.828789200Z",
     "start_time": "2024-04-16T06:23:46.769728600Z"
    }
   },
   "id": "3fa2c680ae5e1202",
   "execution_count": 7
  },
  {
   "cell_type": "code",
   "outputs": [],
   "source": [],
   "metadata": {
    "collapsed": false,
    "ExecuteTime": {
     "end_time": "2024-04-16T06:23:50.419677700Z",
     "start_time": "2024-04-16T06:23:50.342764100Z"
    }
   },
   "id": "d82364c3f8e2be5e",
   "execution_count": 7
  },
  {
   "cell_type": "code",
   "outputs": [],
   "source": [],
   "metadata": {
    "collapsed": false,
    "ExecuteTime": {
     "end_time": "2024-04-16T06:23:52.334600200Z",
     "start_time": "2024-04-16T06:23:52.257426300Z"
    }
   },
   "id": "2ac0659197f7dcf3",
   "execution_count": 7
  },
  {
   "cell_type": "code",
   "outputs": [],
   "source": [],
   "metadata": {
    "collapsed": false,
    "ExecuteTime": {
     "end_time": "2024-04-16T06:23:55.425530200Z",
     "start_time": "2024-04-16T06:23:55.387711Z"
    }
   },
   "id": "e7e8b3699610102",
   "execution_count": 7
  },
  {
   "cell_type": "code",
   "outputs": [],
   "source": [
    "from datetime import datetime, timedelta\n",
    "from math import pi, sqrt, sin, atan, atan2, cos, tan\n",
    "\n",
    "import numpy as np\n",
    "alm = [8, 2310, 147456, 0.009456157684326172, 0.0035114288330078125, -2.5247572921216488e-09, 5153.56689453125, 0.5389893054962158, 0.11286938190460205, 0.7948415279388428, 0.0001239776611328125, 2.1827872842550278e-11, 0, 1, datetime.now()]\n",
    "eph = [8, 261, 583200, 583200, 27, 27, 10, 6.707523425575346e-12, -2.567389856267255e-09, 109.90625, 287.1875, 4.697591066360474e-06, 5.5730342864990234e-06, -8.754432201385498e-08, -1.0803341865539551e-07, 1.4808847481617704e-09, 0.3035227810032666, 0.009448226657696068, 5153.622440338135, 0.9459900539368391, 0.5777560574933887, 0.1125011807307601, 4.6566128730773926e-09, 0.0, 2.319211489520967e-11, 0.00011975038796663284, 0, 0, datetime.now()]\n",
    "alm = [9, 2310, 147456, 0.002669811248779297, 0.004894256591796875, -2.4883775040507317e-09, 5153.63623046875, -0.4582533836364746, 0.6358199119567871, 0.940352201461792, 0.00016117095947265625, 1.4551915228366852e-11, 0, 1, datetime.now()]\n",
    "\n",
    "alm =[9, 2310, 233472, 0.0026683807373046875, 0.0048961639404296875, -2.5029294192790985e-09, 5153.63623046875, -0.4584728479385376, 0.635661244392395, 0.9340482950210571, 0.00016307830810546875, 1.4551915228366852e-11, 0, 1, datetime.now()]\n",
    "\n",
    "eph =[9, 262, 0, 0, 74, 74, 2, 7.537437340943143e-11, -2.543060872994829e-09, -25.65625, 221.875, 8.085742592811584e-06, -1.4491379261016846e-06, -7.264316082000732e-08, -3.5390257835388184e-08, 1.463831722503528e-09, 0.3048875015228987, 0.0026726502692326903, 5153.685857772827, 0.09409773629158735, -0.4578785211779177, 0.6360140475444496, 9.313225746154785e-10, 0.0, 1.3642420526593924e-11, 0.00015946431085467339, 0, 0, datetime.now()]\n",
    "\n",
    "def check_t(time, *args, **kwargs):\n",
    "    half_week = 302400.0\n",
    "    if time > half_week:\n",
    "        time -= 2 * half_week\n",
    "    elif time < - half_week:\n",
    "        time += 2 * half_week\n",
    "    return time\n"
   ],
   "metadata": {
    "collapsed": false,
    "ExecuteTime": {
     "end_time": "2024-04-14T15:47:05.372860700Z",
     "start_time": "2024-04-14T15:47:05.308531700Z"
    }
   },
   "id": "a40b85598571a04b",
   "execution_count": 186
  },
  {
   "cell_type": "code",
   "outputs": [],
   "source": [
    "def calc_sat_alm(ALM: list, time, N):\n",
    "    # SV_ID, week, Toa, e, delta_i, Wdot, sqrtA, W0, w, M0, af0, af1, health, Data_ID, receiving_time = ALM\n",
    "    SV_ID = ALM[0]  # ID спутника\n",
    "    N0a = ALM[1]  # номер недели передаваемых данных\n",
    "    Toa = ALM[2]  # опорное время внутри недели N, на которую передаются данные альманах\n",
    "    e = ALM[3]  # эксцентриситет\n",
    "    di = ALM[4] * pi  # rad, поправка к наклонению\n",
    "    OmegaDot = ALM[5] * pi  # rad/s, скорость прецессии орбиты\n",
    "    sqrtA = ALM[6]  # корень из большей полуоси\n",
    "    Omega0 = ALM[7] * pi  # rad Угол восходящего узла на момент начала недели N\n",
    "    omega = ALM[8] * pi  # rad аргумент перигея\n",
    "    M0 = ALM[9] * pi  # rad средняя аномалия на эпоху Toa\n",
    "    af0 = ALM[10]  #\n",
    "    af1 = ALM[11]  #\n",
    "    health = ALM[12]  #\n",
    "    Data_ID = ALM[13]  #\n",
    "    receiving_time: datetime = ALM[14]  # время принятия сигнала\n",
    "\n",
    "    mu = 3.9860044 * 1e14  # m^3/s^2 гравитационная постоянная для земли WGS-84\n",
    "    OmegaEathDot = 7.2921151467 * 10e-5  # rad/s скорость вращения земли WGS-84\n",
    "    i0 = 0.30 * pi  # rad\n",
    "\n",
    "    a = sqrtA ** 2  # большая полуось\n",
    "    n0 = sqrt(mu / a ** 3)  # rad/s вычисленное среднее перемещение\n",
    "\n",
    "    t = time\n",
    "    # TODO: добавить поправки генераторов\n",
    "    tk = (N - N0a) * 604800 + time - Toa#+ 3600 * 6\n",
    "\n",
    "    Mk = M0 + n0 * tk  # средняя аномалия\n",
    "    ## Решение уравнения Mk = Ek - e * sin(Ek)\n",
    "    Ek = Mk  # rad\n",
    "    for i in range(20):\n",
    "        Ek = Ek + (Mk - Ek + e * sin(Ek)) / (1 - e * cos(Ek))\n",
    "    nu_k = atan2(\n",
    "        sqrt(1 - e * e) * sin(Ek) / (1 - e * cos(Ek)),\n",
    "        (cos(Ek) - e) / (1 - e * cos(Ek))\n",
    "    )\n",
    "    r_k = a * (1 - e * cos(Ek))\n",
    "    ik = i0 + di\n",
    "    Omega_k = Omega0 + (OmegaDot - OmegaEathDot) * tk - OmegaEathDot * Toa\n",
    "    p = a * (1 - e * e)\n",
    "    Vr = sqrt(mu / p) * e * sin(nu_k)\n",
    "    Vn = sqrt(mu / p) * (1 + e * cos(nu_k))\n",
    "    u_k = omega + nu_k\n",
    "\n",
    "    X = r_k * (cos(u_k) * cos(Omega_k) - sin(u_k) * sin(Omega_k) * cos(ik))\n",
    "    Y = r_k * (cos(u_k) * sin(Omega_k) + sin(u_k) * cos(Omega_k) * cos(ik))\n",
    "    Z = r_k * sin(u_k) * sin(ik)\n",
    "\n",
    "\n",
    "    V0x = Vr * (cos(u_k) * cos(Omega_k) - sin(u_k) * sin(Omega_k) * cos(ik)) \\\n",
    "          - Vn * (sin(u_k) * cos(Omega_k) + cos(u_k) * sin(Omega_k) * cos(ik))\n",
    "    V0y = Vr * (cos(u_k) * sin(Omega_k) + sin(u_k) * cos(Omega_k) * cos(ik)) \\\n",
    "          - Vn * (sin(u_k) * sin(Omega_k) - cos(u_k) * cos(Omega_k) * cos(ik))\n",
    "    V0z = Vr * sin(u_k) * sin(ik) \\\n",
    "          + Vn * cos(u_k) * sin(ik)\n",
    "\n",
    "    Vx = V0x + 0*OmegaEathDot * Y\n",
    "    Vy = V0y - 0*OmegaEathDot * X\n",
    "    Vz = V0z\n",
    "    return (X, Y, Z, Vx, Vy, Vz)"
   ],
   "metadata": {
    "collapsed": false,
    "ExecuteTime": {
     "end_time": "2024-04-13T19:53:50.640354400Z",
     "start_time": "2024-04-13T19:53:50.597847200Z"
    }
   },
   "id": "8c607780afcc3a66",
   "execution_count": 3
  },
  {
   "cell_type": "code",
   "outputs": [
    {
     "name": "stdout",
     "output_type": "stream",
     "text": [
      "-16064521.467361048 4657822.309377097 -20698882.08704459\n",
      "136.89196972358624\n",
      "283.33211439413844\n"
     ]
    }
   ],
   "source": [
    "ALM = alm\n",
    "time = 3600 * 4\n",
    "N = 2310\n",
    "\n",
    "SV_ID = ALM[0]  # ID спутника\n",
    "N0a = ALM[1]  # номер недели передаваемых данных\n",
    "Toa = ALM[2]  # опорное время внутри недели N, на которую передаются данные альманах\n",
    "e = ALM[3]  # эксцентриситет\n",
    "di = ALM[4] * pi  # rad, поправка к наклонению\n",
    "OmegaDot = ALM[5] * pi * (3600*24)  # rad/s, скорость прецессии орбиты\n",
    "sqrtA = ALM[6]  # корень из большей полуоси\n",
    "Omega0 = ALM[7] * pi  # rad Угол восходящего узла на момент начала недели N\n",
    "omega = ALM[8] * pi  # rad аргумент перигея\n",
    "M0 = ALM[9] * pi  # rad средняя аномалия на эпоху Toa\n",
    "af0 = ALM[10]  #\n",
    "af1 = ALM[11]  #\n",
    "health = ALM[12]  #\n",
    "Data_ID = ALM[13]  #\n",
    "receiving_time: datetime = ALM[14]  # время принятия сигнала\n",
    "\n",
    "mu = 3.9860044 * 1e14  # m^3/s^2 гравитационная постоянная для земли WGS-84\n",
    "OmegaEathDot = 7.2921151467 * 10e-5 # rad/s скорость вращения земли WGS-84\n",
    "i0 = 0.30 * pi  # rad\n",
    "\n",
    "a = sqrtA ** 2  # большая полуось\n",
    "n0 = sqrt(mu / a ** 3)  # rad/s вычисленное среднее перемещение\n",
    "t = time\n",
    "# TODO: добавить поправки генераторов\n",
    "tk = (N - N0a) * 604800 + time - Toa#+ 3600 * 6\n",
    "\n",
    "Mk = M0 + n0 * tk  # средняя аномалия\n",
    "\n",
    "## Решение уравнения Mk = Ek - e * sin(Ek)\n",
    "Ek = Mk  # rad\n",
    "for i in range(20):\n",
    "    Ek = Ek + (Mk - Ek + e * sin(Ek)) / (1 - e * cos(Ek))\n",
    "    # Ek = Mk - e * sin(Ek)\n",
    "# print((Ek % pi) / pi * 180)\n",
    "nu_k = atan2(\n",
    "    sqrt(1 - e * e) * sin(Ek),# / (1 - e * cos(Ek)),\n",
    "    (cos(Ek) - e)# / (1 - e * cos(Ek))\n",
    ")\n",
    "r_k = a * (1 - e * cos(Ek))\n",
    "ik = i0 + di\n",
    "Omega_k = Omega0 + (OmegaDot - OmegaEathDot) * tk - OmegaEathDot * Toa #- 0.095*OmegaEathDot * time\n",
    "\n",
    "u_k = omega + nu_k\n",
    "\n",
    "X = r_k * (cos(u_k) * cos(Omega_k) - sin(u_k) * sin(Omega_k) * cos(ik))\n",
    "Y = r_k * (cos(u_k) * sin(Omega_k) + sin(u_k) * cos(Omega_k) * cos(ik))\n",
    "Z = r_k * sin(u_k) * sin(ik)\n",
    "# print(tk)\n",
    "# print(time)\n",
    "# print(r_k)\n",
    "# print(cos(u_k))\n",
    "# print(sin(u_k)  * cos(ik))\n",
    "print(X, Y, Z)\n",
    "# for TOW = 4 Omega_k = -1.6905563119681734 или -0.421244997364088 радиан или 96.86 или -24.14 градуса\n",
    "# print(Omega_k)\n",
    "# print((Omega_k*180/pi) % 360)\n",
    "# import pymap3d as pm\n",
    "# print(pm.eci2ecef(X, Y, Z, datetime(2024, 4, 14, 7, 0, 0)))"
   ],
   "metadata": {
    "collapsed": false,
    "ExecuteTime": {
     "end_time": "2024-04-14T16:22:02.828239800Z",
     "start_time": "2024-04-14T16:22:02.757997800Z"
    }
   },
   "id": "6690f0444214c82e",
   "execution_count": 245
  },
  {
   "cell_type": "code",
   "outputs": [
    {
     "data": {
      "text/plain": "(-25108769.84405384, 7360267.521389156, -4472527.762249259)"
     },
     "execution_count": 187,
     "metadata": {},
     "output_type": "execute_result"
    }
   ],
   "source": [
    "EPH = eph\n",
    "# time = 576018 # 60 градусов\n",
    "time = 2 * 3600\n",
    "\n",
    "# SV_ID = EPH[0]\n",
    "# Noe = EPH[1]\n",
    "Toe = EPH[2]\n",
    "# Toc = EPH[3]\n",
    "# IODE1 = EPH[4]\n",
    "# IODE2 = EPH[5]\n",
    "# IODC = EPH[6]\n",
    "IDOT = 0#EPH[7] * pi\n",
    "OmegaDot = EPH[8] * pi\n",
    "Crs = 0#EPH[9]\n",
    "Crc = 0#EPH[10]\n",
    "Cus = 0#EPH[11]\n",
    "Cuc = 0#EPH[12]\n",
    "Cis = 0#EPH[13]\n",
    "Cic = 0#EPH[14]\n",
    "dn = 0#EPH[15] * pi\n",
    "i0 = EPH[16] * pi\n",
    "e = EPH[17]\n",
    "sqrtA = EPH[18]\n",
    "M0 = EPH[19] * pi\n",
    "Omega0 = EPH[20] * pi \n",
    "omega = EPH[21] * pi\n",
    "# Tgd = EPH[22]\n",
    "# af2 = EPH[23]\n",
    "# af1 = EPH[24]\n",
    "# af0 = EPH[25]\n",
    "# health = EPH[26]\n",
    "# accuracy = EPH[27]\n",
    "# receiving_time = EPH[28]\n",
    "\n",
    "# print(M0 / pi * 180)\n",
    "\n",
    "mu = 3.9860044 * 1e14  # m^3/s^2 гравитационная постоянная для земли WGS-84\n",
    "OmegaEathDot = 7.2921151467 * 10e-5  # rad/s скорость вращения земли WGS-84\n",
    "\n",
    "a = sqrtA ** 2  # большая полуось\n",
    "n0 = sqrt(mu / a ** 3)  # rad/s вычисленное среднее перемещение\n",
    "n = n0 + dn  # скорректированное средне движение\n",
    "t = time\n",
    "# TODO: добавить поправки генераторов\n",
    "tk = 0 * 604800 + time - Toe\n",
    "\n",
    "Mk = M0 + n * tk  # средняя аномалия\n",
    "## Решение уравнения Mk = Ek - e * sin(Ek)\n",
    "Ek = Mk  # rad\n",
    "for i in range(20):\n",
    "    Ek = Ek + (Mk - Ek + e * sin(Ek)) / (1 - e * cos(Ek))\n",
    "nu_k = atan2(\n",
    "    sqrt(1 - e * e) * sin(Ek) ,\n",
    "    (cos(Ek) - e) \n",
    ")\n",
    "# nu_k = 2 * atan( sqrt((1+e)/(1-e)) * tan(Ek/2) )\n",
    "Phi_k = nu_k + omega  # аргумент lat\n",
    "r_k = a * (1 - e * cos(Ek))\n",
    "ik = i0 + IDOT * tk\n",
    "# print(tk)\n",
    "Omega_k = Omega0 + (OmegaDot - OmegaEathDot) * tk - OmegaEathDot * Toe #+OmegaEathDot * time#-0.1* OmegaEathDot * time #+0.9* OmegaEathDot * time\n",
    "\n",
    "# print(f'Omega_k нужное =~ {(Omega_k * 180/pi)} градусов')\n",
    "# print(f'Omega0 = {(Omega0 * 180/pi)} градусов')\n",
    "# print(f'dOmega * tk = {((OmegaDot - OmegaEathDot) * tk * 180 / pi)} градусов')\n",
    "# print(f'OmegaEath = {(OmegaEathDot * Toe * 180/pi)} градусов')\n",
    "# print(f'Сумма = {((Omega0 + (OmegaDot - OmegaEathDot) * tk - OmegaEathDot * Toe)*180/pi)}')\n",
    "# print(f'(OmegaDot - OmegaEathDot) = {((OmegaDot - OmegaEathDot)*180/pi)} градусов/сек')\n",
    "\n",
    "# print((Omega_k * 180/pi))\n",
    "# print((Omega0 + (OmegaDot - OmegaEathDot) * tk - OmegaEathDot * Toe))\n",
    "# print((Omega0 * 180/pi))\n",
    "# print(((OmegaDot - OmegaEathDot) * tk * 180 / pi))\n",
    "# print((OmegaEathDot * Toe * 180/pi))\n",
    "# print((0.9 * OmegaEathDot * time * 180/pi))\n",
    "# \n",
    "# print( (\n",
    "#     (0.9 * OmegaEathDot * time) +\n",
    "#     Omega_k + Omega_k \n",
    "# \n",
    "# )*180/pi % 360)\n",
    "\n",
    "du_k = Cuc * cos(2 * Phi_k) + Cus * sin(2 * Phi_k)\n",
    "dr_k = Crc * cos(2 * Phi_k) + Crs * sin(2 * Phi_k)\n",
    "di_k = Cic * cos(2 * Phi_k) + Cis * sin(2 * Phi_k)\n",
    "\n",
    "u_k = Phi_k + du_k\n",
    "r_k = r_k + dr_k\n",
    "ik = ik + di_k\n",
    "\n",
    "X = r_k * (cos(u_k) * cos(Omega_k) - sin(u_k) * sin(Omega_k) * cos(ik))\n",
    "Y = r_k * (cos(u_k) * sin(Omega_k) + sin(u_k) * cos(Omega_k) * cos(ik))\n",
    "Z = r_k * sin(u_k) * sin(ik)\n",
    "\n",
    "(X, Y, Z)"
   ],
   "metadata": {
    "collapsed": false,
    "ExecuteTime": {
     "end_time": "2024-04-14T15:47:34.532088Z",
     "start_time": "2024-04-14T15:47:34.446070Z"
    }
   },
   "id": "e2fd324f3136cf2b",
   "execution_count": 187
  },
  {
   "cell_type": "code",
   "outputs": [
    {
     "name": "stdout",
     "output_type": "stream",
     "text": [
      "583200\n",
      "0.00014586293347136346\n",
      "4.652336645638189e-09\n",
      "0.0001458582811347178\n",
      "2.9719154038169857\n"
     ]
    }
   ],
   "source": [
    "print(Toe)\n",
    "print(n)\n",
    "print(dn)\n",
    "print(n0)\n",
    "print(M0)"
   ],
   "metadata": {
    "collapsed": false,
    "ExecuteTime": {
     "end_time": "2024-04-13T20:31:24.793813900Z",
     "start_time": "2024-04-13T20:31:24.753517700Z"
    }
   },
   "id": "a463ff034bbc94d3",
   "execution_count": 53
  },
  {
   "cell_type": "code",
   "outputs": [
    {
     "data": {
      "text/plain": "[8,\n 261,\n 583200,\n 583200,\n 27,\n 27,\n 10,\n 6.707523425575346e-12,\n -2.567389856267255e-09,\n 109.90625,\n 287.1875,\n 4.697591066360474e-06,\n 5.5730342864990234e-06,\n -8.754432201385498e-08,\n -1.0803341865539551e-07,\n 1.4808847481617704e-09,\n 0.3035227810032666,\n 0.009448226657696068,\n 5153.622440338135,\n 0.9459900539368391,\n 0.5777560574933887,\n 0.1125011807307601,\n 4.6566128730773926e-09,\n 0.0,\n 2.319211489520967e-11,\n 0.00011975038796663284,\n 0,\n 0,\n datetime.datetime(2024, 4, 13, 23, 20, 50, 443019)]"
     },
     "execution_count": 63,
     "metadata": {},
     "output_type": "execute_result"
    }
   ],
   "source": [
    "EPH\n"
   ],
   "metadata": {
    "collapsed": false,
    "ExecuteTime": {
     "end_time": "2024-04-13T20:50:43.332042700Z",
     "start_time": "2024-04-13T20:50:43.304833200Z"
    }
   },
   "id": "267b56b353d41d9a",
   "execution_count": 63
  },
  {
   "cell_type": "code",
   "outputs": [
    {
     "data": {
      "text/plain": "(11911916.422908135, -17421205.03104905, 16271376.607549923)"
     },
     "execution_count": 77,
     "metadata": {},
     "output_type": "execute_result"
    }
   ],
   "source": [
    "EPH = eph\n",
    "time = 576018\n",
    "\n",
    "SV_ID = EPH[0]\n",
    "Noe = EPH[1]\n",
    "Toe = EPH[2]\n",
    "Toc = EPH[3]\n",
    "IODE1 = EPH[4]\n",
    "IODE2 = EPH[5]\n",
    "IODC = EPH[6]\n",
    "IDOT = EPH[7] * pi\n",
    "OmegaDot = EPH[8] * pi\n",
    "Crs = EPH[9]\n",
    "Crc = EPH[10]\n",
    "Cus = EPH[11]\n",
    "Cuc = EPH[12]\n",
    "Cis = EPH[13]\n",
    "Cic = EPH[14]\n",
    "dn = EPH[15] * pi\n",
    "i0 = EPH[16] * pi\n",
    "e = EPH[17]\n",
    "sqrtA = EPH[18]\n",
    "M0 = EPH[19] * pi\n",
    "Omega0 = EPH[20] * pi\n",
    "omega = EPH[21] * pi\n",
    "Tgd = EPH[22]\n",
    "af2 = EPH[23]\n",
    "af1 = EPH[24]\n",
    "af0 = EPH[25]\n",
    "health = EPH[26]\n",
    "accuracy = EPH[27]\n",
    "receiving_time = EPH[28]\n",
    "\n",
    "\n",
    "mu = 3.9860044 * 1e14  # m^3/s^2 гравитационная постоянная для земли WGS-84\n",
    "OmegaEathDot = 7.2921151467 * 10e-5  # rad/s скорость вращения земли WGS-84\n",
    "# F = - 4.442807633e-10 #???\n",
    "\n",
    "a = sqrtA ** 2  # большая полуось\n",
    "n0 = sqrt(mu / a ** 3)  # rad/s вычисленное среднее перемещение\n",
    "n = n0 + dn  # скорректированное средне движение\n",
    "\n",
    "# TODO: добавить поправки генераторов\n",
    "# tk = 0 * 604800 + time - Toe\n",
    "dt = check_t(time - Toc)\n",
    "satNr = (af2 * dt + af1) * dt + af0 - Tgd\n",
    "time = time - satNr\n",
    "tk = check_t(time - Toe)\n",
    "\n",
    "Mk = M0 + n * tk  # средняя аномалия\n",
    "## Решение уравнения Mk = Ek - e * sin(Ek)\n",
    "Ek = Mk  # rad\n",
    "for i in range(20):\n",
    "    # Ek = Ek + (Mk - Ek + e * sin(Ek)) / (1 - e * cos(Ek))\n",
    "    Ek = Mk + e*sin(Ek)\n",
    "# Ek = np.remainder(Ek + 2*pi, 2*pi) # to 0-360\n",
    "\n",
    "nu_k = atan2(\n",
    "    sqrt(1 - e * e) * sin(Ek),# / (1 - e * cos(Ek)),\n",
    "    (cos(Ek) - e) #/ (1 - e * cos(Ek))\n",
    ")\n",
    "Phi_k = nu_k + omega  # аргумент lat\n",
    "# Phi_k = np.remainder(Phi_k + 2*pi, 2*pi)\n",
    "\n",
    "r_k = a * (1 - e * cos(Ek))\n",
    "ik = i0 + IDOT * tk\n",
    "Omega_k = Omega0 + (OmegaDot - OmegaEathDot) * tk - OmegaEathDot * Toe\n",
    "du_k = Cuc * cos(2 * Phi_k) + Cus * sin(2 * Phi_k)\n",
    "dr_k = Crc * cos(2 * Phi_k) + Crs * sin(2 * Phi_k)\n",
    "di_k = Cic * cos(2 * Phi_k) + Cis * sin(2 * Phi_k)\n",
    "\n",
    "u_k = Phi_k + du_k\n",
    "r_k = r_k + dr_k\n",
    "ik = ik + di_k\n",
    "\n",
    "X = r_k * (cos(u_k) * cos(Omega_k) - sin(u_k) * sin(Omega_k) * cos(ik))\n",
    "Y = r_k * (cos(u_k) * sin(Omega_k) + sin(u_k) * cos(Omega_k) * cos(ik))\n",
    "Z = r_k * sin(u_k) * sin(ik)\n",
    "\n",
    "(X, Y, Z)"
   ],
   "metadata": {
    "collapsed": false,
    "ExecuteTime": {
     "end_time": "2024-04-14T13:43:11.337869400Z",
     "start_time": "2024-04-14T13:43:11.316188200Z"
    }
   },
   "id": "a0640513a7884e",
   "execution_count": 77
  },
  {
   "cell_type": "code",
   "outputs": [
    {
     "name": "stdout",
     "output_type": "stream",
     "text": [
      "Moscow time: 5:00\n",
      "UTC time: 2:00\n",
      "ECEF from site LLA: [6990, 25036, -4482] km\n",
      "ECEF from site AER: [6438, 24904, -4610] km\n",
      "ECEF from ALM: [-6543, 25333, -4473]\n"
     ]
    }
   ],
   "source": [],
   "metadata": {
    "collapsed": false,
    "ExecuteTime": {
     "end_time": "2024-04-16T06:46:40.075420Z",
     "start_time": "2024-04-16T06:46:40.002378500Z"
    }
   },
   "id": "bddc50b2126a92e5",
   "execution_count": 45
  },
  {
   "cell_type": "code",
   "outputs": [],
   "source": [],
   "metadata": {
    "collapsed": false,
    "ExecuteTime": {
     "end_time": "2024-04-16T06:43:04.383308700Z",
     "start_time": "2024-04-16T06:43:04.338355800Z"
    }
   },
   "id": "2985eb467343a4d1",
   "execution_count": 39
  },
  {
   "cell_type": "code",
   "outputs": [
    {
     "ename": "TypeError",
     "evalue": "'Time' object cannot be interpreted as an integer",
     "output_type": "error",
     "traceback": [
      "\u001B[1;31m---------------------------------------------------------------------------\u001B[0m",
      "\u001B[1;31mTypeError\u001B[0m                                 Traceback (most recent call last)",
      "Cell \u001B[1;32mIn[98], line 2\u001B[0m\n\u001B[0;32m      1\u001B[0m \u001B[38;5;28;01mfrom\u001B[39;00m \u001B[38;5;21;01mdatetime\u001B[39;00m \u001B[38;5;28;01mimport\u001B[39;00m datetime\n\u001B[1;32m----> 2\u001B[0m \u001B[43mdatetime\u001B[49m\u001B[43m(\u001B[49m\u001B[43mt\u001B[49m\u001B[43m)\u001B[49m\n",
      "\u001B[1;31mTypeError\u001B[0m: 'Time' object cannot be interpreted as an integer"
     ]
    }
   ],
   "source": [],
   "metadata": {
    "collapsed": false,
    "ExecuteTime": {
     "end_time": "2024-04-14T14:30:44.129824100Z",
     "start_time": "2024-04-14T14:30:44.114209500Z"
    }
   },
   "id": "c06a453f8e8fa54a",
   "execution_count": 98
  },
  {
   "cell_type": "code",
   "outputs": [],
   "source": [
    "import ephem\n",
    "\n",
    "almanac_data = {\n",
    "    'name': 'GPS BIIF-10 (PRN 08)  ',\n",
    "    'line1': '1 40730U 15033A   24103.98788303 -.00000039  00000+0  00000+0 0  9993',\n",
    "    'line2':  '2 40730  54.6543 299.7108 0093844  18.7975 341.5498  2.00570312 64042'\n",
    "}\n",
    "\n",
    "satellite = ephem.readtle(almanac_data['name'], almanac_data['line1'], almanac_data['line2'])\n",
    "\n",
    "observer = ephem.Observer()\n",
    "breakpoint()\n",
    "observer.date = ephem.now()\n",
    "\n",
    "satellite.compute(observer)\n",
    "\n",
    "\n",
    "from skyfield.api import EarthSatellite, Topos, load\n",
    "ts = load.timescale()\n",
    "# satellite = EarthSatellite(almanac_data['line1'], almanac_data['line2'], almanac_data['name'], ts)\n",
    "# satellite = ts.almanac(**almanac_data)\n",
    "t = ts.utc(2024, 4, 13, 20, 0, 0)\n",
    "# print(t[0])\n",
    "print(t)\n",
    "# print(ts.gps_time(t))\n",
    "print(satellite.at(t).position.km)\n"
   ],
   "metadata": {
    "collapsed": false
   },
   "id": "2ddff3ff7c6897ac"
  },
  {
   "cell_type": "code",
   "outputs": [],
   "source": [],
   "metadata": {
    "collapsed": false
   },
   "id": "761bbb345e6f0783"
  }
 ],
 "metadata": {
  "kernelspec": {
   "display_name": "Python 3",
   "language": "python",
   "name": "python3"
  },
  "language_info": {
   "codemirror_mode": {
    "name": "ipython",
    "version": 2
   },
   "file_extension": ".py",
   "mimetype": "text/x-python",
   "name": "python",
   "nbconvert_exporter": "python",
   "pygments_lexer": "ipython2",
   "version": "2.7.6"
  }
 },
 "nbformat": 4,
 "nbformat_minor": 5
}
