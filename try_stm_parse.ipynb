{
 "cells": [
  {
   "cell_type": "code",
   "id": "initial_id",
   "metadata": {
    "collapsed": true,
    "ExecuteTime": {
     "end_time": "2024-09-22T07:42:03.367879Z",
     "start_time": "2024-09-22T07:42:03.364348Z"
    }
   },
   "source": [
    "\n",
    "# msg = '$PSTMALMANAC,3,40,03fe077bdd0f190d59fd00000a0ca100b5f0de005aa01700af2db400c50080000000000000000000*12'\n",
    "# msg = '$PSTMALMANAC,15,40,0ffe077b265cdef637fd0000c60ca100d6cb050031521f00d0a30e00af0e80000000000000000000*22'\n",
    "# msg = '$PSTMALMANAC,26,40,1afe077b911e4a064bfd00003c0ca10074ec5d00c40c0600c0b77a00aa1880000000000000000000*75'\n",
    "\n",
    "msg = '$PSTMALMANAC,1,40,01e007394842491335fd0000e00ca10012ad4d00dc031c002e946000aaffbf000000000000000000*18'"
   ],
   "outputs": [],
   "execution_count": 41
  },
  {
   "metadata": {
    "ExecuteTime": {
     "end_time": "2024-09-22T07:42:04.063586Z",
     "start_time": "2024-09-22T07:42:04.058041Z"
    }
   },
   "cell_type": "code",
   "source": [
    "from cmath import pi\n",
    "\n",
    "def check_sign(data, n):\n",
    "    if data >> (n - 1) == 1:\n",
    "        data -= 2 ** n\n",
    "    return data\n",
    "\n",
    "msg = msg.split('*')[0]\n",
    "head, SatID, N, bytes_msg = msg.split(',')\n",
    "msg = bytes.fromhex(bytes_msg)\n",
    "word8 = [int.from_bytes(msg[i:i + 4]) for i in range(0, len(msg), 4)]\n",
    "data = {\n",
    "    'svId': int(SatID),\n",
    "    'svId_dop': msg[0],\n",
    "    'week': int.from_bytes(msg[1:3], 'little') + 1,\n",
    "    'Toa': msg[3] * 2 ** 12,\n",
    "    'e': int.from_bytes(msg[4:6], 'little') * 2 ** (-21),\n",
    "    'delta_i': check_sign(int.from_bytes(msg[6:8], 'little'), 16) * 2 ** (-19) * pi,\n",
    "    'Wdot': check_sign(int.from_bytes(msg[8:10], 'little'), 16) * 2 ** (-38) * pi,\n",
    "    'sqrtA': int.from_bytes(msg[12:15], 'little') * 2 ** (-11),\n",
    "    'W0': check_sign(int.from_bytes(msg[16:19], 'little'), 24) * 2 ** (-23) * pi,\n",
    "    'w': check_sign(int.from_bytes(msg[20:23], 'little'), 24) * 2 ** (-23) * pi,\n",
    "    'M0': check_sign(int.from_bytes(msg[24:27], 'little'), 24) * 2 ** (-23) * pi,\n",
    "    'af0': check_sign(int.from_bytes(msg[28:30], 'little') >> 5, 11) * 2 ** (-20),\n",
    "    'af1': check_sign((int.from_bytes(msg[28:30], 'little') >> 5) & 0x7FF, 11) * 2 ** (-38),\n",
    "    'health': (msg[30] & 0x2) >> 1,\n",
    "    'available': msg[30]  & 0x1,\n",
    "}\n",
    "print(data)"
   ],
   "id": "7d0d7fbacecbd1dd",
   "outputs": [
    {
     "name": "stdout",
     "output_type": "stream",
     "text": [
      "{'svId': 1, 'svId_dop': 1, 'week': 2017, 'Toa': 233472, 'e': 0.008090972900390625, 'delta_i': 0.029583059178872696, 'Wdot': -8.1717689584064e-09, 'sqrtA': 5153.609375, 'W0': 1.9064572390706327, 'w': 0.6875934059167201, 'M0': 2.3704010398035886}\n"
     ]
    }
   ],
   "execution_count": 42
  },
  {
   "metadata": {
    "ExecuteTime": {
     "end_time": "2024-09-22T08:05:25.534972Z",
     "start_time": "2024-09-22T08:05:25.529119Z"
    }
   },
   "cell_type": "code",
   "source": [
    "aid_reverse = lambda word: [word[2], word[1], word[0], word[3]]\n",
    "arr = [int.from_bytes(msg[i:i + 4]) for i in range(0, len(msg), 4)] #[::-1]\n",
    "# arr = [int.from_bytes(aid_reverse(msg[i:i + 4])) for i in range(0, len(msg), 4)] #[::-1]\n",
    "for a in arr:\n",
    "    print(f'{a:032b}')\n",
    "\n",
    "# words = [int.from_bytes(msg[i:i + 4]) & 0x3FFFFFFF for i in range(0, len(msg), 4)]\n",
    "# for a in words:\n",
    "#     print(f'{a:030b}')\n",
    "# 10101011111-11110111111-00000000\n",
    "10101010111-11111101111-11-00000000"
   ],
   "id": "72893df7a769d1f",
   "outputs": [
    {
     "name": "stdout",
     "output_type": "stream",
     "text": [
      "00000001111000000000011100111001\n",
      "01001000010000100100100100010011\n",
      "00110101111111010000000000000000\n",
      "11100000000011001010000100000000\n",
      "00010010101011010100110100000000\n",
      "11011100000000110001110000000000\n",
      "00101110100101000110000000000000\n",
      "10101010111111111011111100000000\n",
      "00000000000000000000000000000000\n",
      "00000000000000000000000000000000\n"
     ]
    }
   ],
   "execution_count": 47
  },
  {
   "metadata": {
    "ExecuteTime": {
     "end_time": "2024-09-22T07:28:06.778101Z",
     "start_time": "2024-09-22T07:28:06.774514Z"
    }
   },
   "cell_type": "code",
   "source": [
    "# e = 0.1708984375E-002 # 3\n",
    "# e = 0.1058483124E-001 # 15\n",
    "e = 0.2884387970E-002 # 26\n",
    "e_raw = int(e / 2 **(-21))\n",
    "# print(e_raw)\n",
    "print(f'{e_raw:016b}')"
   ],
   "id": "27e9570caa70c40c",
   "outputs": [
    {
     "name": "stdout",
     "output_type": "stream",
     "text": [
      "0001011110100001\n"
     ]
    }
   ],
   "execution_count": 33
  },
  {
   "metadata": {
    "ExecuteTime": {
     "end_time": "2024-09-22T07:31:42.456131Z",
     "start_time": "2024-09-22T07:31:42.451491Z"
    }
   },
   "cell_type": "code",
   "source": [
    "sqrtA = 5153 #3\n",
    "A_raw = int(sqrtA / 2**(-11))\n",
    "print(f'{A_raw:024b}')"
   ],
   "id": "3254e81fdd19233",
   "outputs": [
    {
     "name": "stdout",
     "output_type": "stream",
     "text": [
      "101000010000100000000000\n"
     ]
    }
   ],
   "execution_count": 35
  },
  {
   "metadata": {
    "ExecuteTime": {
     "end_time": "2024-09-22T07:13:30.506921Z",
     "start_time": "2024-09-22T07:13:30.502413Z"
    }
   },
   "cell_type": "code",
   "source": [
    "Toa = 233472#3\n",
    "Toa_raw = int(Toa / 2 ** 12)\n",
    "print(f'{Toa_raw:08b}')\n"
   ],
   "id": "cced7e925cbd6e9",
   "outputs": [
    {
     "name": "stdout",
     "output_type": "stream",
     "text": [
      "00111001\n"
     ]
    }
   ],
   "execution_count": 21
  },
  {
   "metadata": {
    "ExecuteTime": {
     "end_time": "2024-09-22T07:38:18.254537Z",
     "start_time": "2024-09-22T07:38:18.250415Z"
    }
   },
   "cell_type": "code",
   "source": "0b0100101111111101 * 2 ** (-38) * pi",
   "id": "1623fe5b85a2c98e",
   "outputs": [
    {
     "data": {
      "text/plain": [
       "2.2232926090612543e-07"
      ]
     },
     "execution_count": 39,
     "metadata": {},
     "output_type": "execute_result"
    }
   ],
   "execution_count": 39
  },
  {
   "metadata": {
    "ExecuteTime": {
     "end_time": "2024-09-22T07:38:40.775118Z",
     "start_time": "2024-09-22T07:38:40.770762Z"
    }
   },
   "cell_type": "code",
   "source": "0b10010001 * 2 ** 12",
   "id": "43fbb703bd26e1a9",
   "outputs": [
    {
     "data": {
      "text/plain": [
       "593920"
      ]
     },
     "execution_count": 40,
     "metadata": {},
     "output_type": "execute_result"
    }
   ],
   "execution_count": 40
  },
  {
   "metadata": {
    "ExecuteTime": {
     "end_time": "2024-09-22T08:15:42.094955Z",
     "start_time": "2024-09-22T08:15:42.088540Z"
    }
   },
   "cell_type": "code",
   "source": [
    "print(int.from_bytes(msg[1:3][::-1]))\n",
    "print(int.from_bytes(msg[1:3]))\n",
    "print(int.from_bytes(msg[1:3], 'little'))"
   ],
   "id": "e7f0067668cc973b",
   "outputs": [
    {
     "name": "stdout",
     "output_type": "stream",
     "text": [
      "2016\n",
      "57351\n",
      "2016\n"
     ]
    }
   ],
   "execution_count": 53
  },
  {
   "metadata": {
    "ExecuteTime": {
     "end_time": "2024-09-22T08:16:43.485576Z",
     "start_time": "2024-09-22T08:16:43.479281Z"
    }
   },
   "cell_type": "code",
   "source": "bin(int.from_bytes(msg[28:30], 'little'))\n",
   "id": "dbb6b80961a45013",
   "outputs": [
    {
     "data": {
      "text/plain": [
       "'0b1111111110101010'"
      ]
     },
     "execution_count": 59,
     "metadata": {},
     "output_type": "execute_result"
    }
   ],
   "execution_count": 59
  },
  {
   "metadata": {
    "ExecuteTime": {
     "end_time": "2024-09-22T08:16:58.318510Z",
     "start_time": "2024-09-22T08:16:58.312823Z"
    }
   },
   "cell_type": "code",
   "source": "bin(int.from_bytes(msg[28:30], 'little') >> 5)",
   "id": "f73fdaac5f769cc0",
   "outputs": [
    {
     "data": {
      "text/plain": [
       "'0b11111111101'"
      ]
     },
     "execution_count": 60,
     "metadata": {},
     "output_type": "execute_result"
    }
   ],
   "execution_count": 60
  },
  {
   "metadata": {},
   "cell_type": "code",
   "outputs": [],
   "execution_count": null,
   "source": [
    "msg[28:31]\n",
    "Out[12]: b'\\xc2\\x00\\x80'\n",
    "int.from_bytes(msg[28:31])\n",
    "Out[13]: 12714112\n",
    "f'{int.from_bytes(msg[28:31]):024b}'\n",
    "Out[14]: '110000100000000010000000'"
   ],
   "id": "c005427a4db0b69a"
  },
  {
   "metadata": {
    "ExecuteTime": {
     "end_time": "2024-09-22T09:01:43.927971Z",
     "start_time": "2024-09-22T09:01:43.923379Z"
    }
   },
   "cell_type": "code",
   "source": [
    "af1 = 0.7275957614E-011\n",
    "print(2 ** (-38))\n",
    "print(round(af1 / 2 ** (-38)))\n",
    "print(f'{round(af1 / 2 ** (-38)):011b}')"
   ],
   "id": "847f92c0e05a00aa",
   "outputs": [
    {
     "name": "stdout",
     "output_type": "stream",
     "text": [
      "3.637978807091713e-12\n",
      "2\n",
      "00000000010\n"
     ]
    }
   ],
   "execution_count": 84
  },
  {
   "metadata": {},
   "cell_type": "code",
   "outputs": [],
   "execution_count": null,
   "source": [
    "f'{int.from_bytes(msg[28:31]):024b}'\n",
    "Out[21]: '10011101-00010-101-10000000'"
   ],
   "id": "3cbe64735cb14062"
  },
  {
   "metadata": {
    "ExecuteTime": {
     "end_time": "2024-09-22T08:50:24.321725Z",
     "start_time": "2024-09-22T08:50:24.316762Z"
    }
   },
   "cell_type": "code",
   "source": [
    "msg = b'\\x03\\n\\x08$\\\\\\x12c\\ra\\xfd\\x00\\x00\\xba\\r\\xa1\\x00\\xd5\\xc9\\xa1\\x00\\t\\xa8\\x18\\x00\\x9e\\xd1\\xe6\\x00\\xc2\\x00\\x80\\x00\\x00\\x00\\x00\\x00\\x00\\x00\\x00\\x00'\n",
    "bin(msg[28] >> 3)\n"
   ],
   "id": "96e7f96cd2ca8835",
   "outputs": [
    {
     "data": {
      "text/plain": [
       "'0b11000'"
      ]
     },
     "execution_count": 69,
     "metadata": {},
     "output_type": "execute_result"
    }
   ],
   "execution_count": 69
  },
  {
   "metadata": {
    "ExecuteTime": {
     "end_time": "2024-09-22T08:57:30.560299Z",
     "start_time": "2024-09-22T08:57:30.554780Z"
    }
   },
   "cell_type": "code",
   "source": "(((msg[29] & 0x7) << 8) + msg[28]) * 2 ** (-20) ",
   "id": "99d92e80cc77b4bf",
   "outputs": [
    {
     "data": {
      "text/plain": [
       "0.0001850128173828125"
      ]
     },
     "execution_count": 78,
     "metadata": {},
     "output_type": "execute_result"
    }
   ],
   "execution_count": 78
  },
  {
   "metadata": {},
   "cell_type": "code",
   "outputs": [],
   "execution_count": null,
   "source": "",
   "id": "6fb520a4864eab2f"
  }
 ],
 "metadata": {
  "kernelspec": {
   "display_name": "Python 3",
   "language": "python",
   "name": "python3"
  },
  "language_info": {
   "codemirror_mode": {
    "name": "ipython",
    "version": 2
   },
   "file_extension": ".py",
   "mimetype": "text/x-python",
   "name": "python",
   "nbconvert_exporter": "python",
   "pygments_lexer": "ipython2",
   "version": "2.7.6"
  }
 },
 "nbformat": 4,
 "nbformat_minor": 5
}
