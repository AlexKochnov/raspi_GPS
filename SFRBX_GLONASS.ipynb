{
 "cells": [
  {
   "cell_type": "code",
   "outputs": [
    {
     "name": "stdout",
     "output_type": "stream",
     "text": [
      "^C\n"
     ]
    },
    {
     "data": {
      "text/plain": "[]"
     },
     "execution_count": 28,
     "metadata": {},
     "output_type": "execute_result"
    }
   ],
   "source": [
    "!!auto-py-to-exe"
   ],
   "metadata": {
    "collapsed": false
   },
   "id": "651e7b0de44ecb0d",
   "execution_count": 28
  },
  {
   "cell_type": "code",
   "outputs": [],
   "source": [
    "import pandas as pd\n",
    "gpa = pd.read_csv('sfrbx_gps_alm.csv', index_col=0)\n",
    "gpe = pd.read_csv('sfrbx_gps_eph.csv', index_col=0)\n",
    "gla = pd.read_csv('sfrbx_glonass_alm.csv', index_col=0)\n",
    "gle = pd.read_csv('sfrbx_glonass_eph.csv', index_col=0)\n",
    "with open('sfrbx_gps_data.txt', 'r') as file:\n",
    "    gp_data = eval(file.read())"
   ],
   "metadata": {
    "collapsed": false,
    "ExecuteTime": {
     "end_time": "2024-07-23T06:58:26.759835Z",
     "start_time": "2024-07-23T06:58:26.737878800Z"
    }
   },
   "id": "fedc6b38389ae417",
   "execution_count": 23
  },
  {
   "cell_type": "code",
   "outputs": [
    {
     "name": "stdout",
     "output_type": "stream",
     "text": [
      "0:00:00.001995\n"
     ]
    }
   ],
   "source": [
    "import pickle\n",
    "from datetime import datetime\n",
    "import Constants\n",
    "t1 = datetime.now(tz=Constants.tz_utc)\n",
    "\n",
    "t2 = datetime.now(tz=Constants.tz_utc)\n",
    "print(t2-t1)  "
   ],
   "metadata": {
    "collapsed": false,
    "ExecuteTime": {
     "end_time": "2024-07-23T06:58:27.906099Z",
     "start_time": "2024-07-23T06:58:27.889956700Z"
    }
   },
   "id": "6ce9dfa2162b05d9",
   "execution_count": 24
  },
  {
   "cell_type": "code",
   "outputs": [
    {
     "name": "stdout",
     "output_type": "stream",
     "text": [
      "SV: 4 glonass\n",
      "23h : 43m\n",
      "7 (50.36, -9.68, 19157945.67) 17932000.0\n",
      "16 (63.9, 69.69, 19158976.56) 17247000.0\n",
      "17 (54.96, 125.55, 19158666.16) 19353000.0\n",
      "24 (58.32, -144.88, 19152572.72) 21354000.0\n"
     ]
    }
   ],
   "source": [
    "import numpy as np\n",
    "from math import pi, floor, sin, cos, atan, sqrt, tan\n",
    "import Constants\n",
    "\n",
    "SV = 4\n",
    "alm = gla.loc[SV-1]\n",
    "eph = gle.loc[SV-1]\n",
    "# print(alm)\n",
    "print(f'SV: {SV} glonass')\n",
    "\n",
    "def get_glo_year(N4, N):\n",
    "    if 1 <= N <= 366:\n",
    "        J=1\n",
    "    elif 367 <= N <= 731:\n",
    "        J = 2\n",
    "    elif 732 <= N <= 1096:\n",
    "        J = 3\n",
    "    elif 1097<= N <= 1461:\n",
    "        J = 4\n",
    "    else:\n",
    "        J = 0 # TODO - error\n",
    "    return 1996 + 4 * (N4-1) + (J-1)\n",
    "\n",
    "def get_glo_dNA(N4, NA, N):\n",
    "    k = 1461 if N4 != 27 else 1460\n",
    "    return N - NA - round((N-NA)/k)*k\n",
    "\n",
    "#TODO: переименовать N в NA в преобраовании ГЛОНАСС \n",
    "# t1 = 81300 # 22:35\n",
    "t1 = 23 * 3600 + 43 * 60\n",
    "print(f'{t1//3600}h : {(t1%3600//60)}m')\n",
    "N = 204 # 22.07.2024\n",
    "# t1, N - время и день, на которые проводится расчет\n",
    "\n",
    "def calc_glo_alm(alm, eph, t1, N):\n",
    "    GM = Constants.mu\n",
    "    ae = Constants.ae_glonass\n",
    "    J20 = Constants.J20_glonass\n",
    "    wz = Constants.OmegaEarthDot\n",
    "    \n",
    "    NA = eph.N\n",
    "    N4 = eph.N4\n",
    "    t_lambda = alm.t_lambda_n\n",
    "    dT = alm.delta_T_n\n",
    "    di = alm.delta_i_n\n",
    "    dT_dot = alm.delta_T_dot_n\n",
    "    e = alm.eps_n\n",
    "    w_A = alm.omega_n\n",
    "    lambda_A = alm.lambda_n\n",
    "    \n",
    "    # для проверки\n",
    "    # N = 1453\n",
    "    # t1 = 51300\n",
    "    # NA = 1452\n",
    "    # t_lambda = 33571.625\n",
    "    # dT = 0.01953124999975\n",
    "    # dT_dot= 6.103515625E-05\n",
    "    # lambda_A = -0.293967247009277 * pi\n",
    "    # w_A = 0.57867431640625 * pi\n",
    "    # e = 0.000432968139648438\n",
    "    # di = -0.00012947082519531 * pi\n",
    "    \n",
    "    # 1 - интервал прогноза dt_pr в сек\n",
    "    dNa = get_glo_dNA(N4=N4, NA=NA, N=N)\n",
    "    dt_pr = dNa * 86400 + (t1 - t_lambda)\n",
    "    # print(1, dt_pr)\n",
    "    \n",
    "    # 2 - количество целых витков W на интервале прогноза\n",
    "    Tdr_avg = 43200\n",
    "    W = floor(dt_pr / (Tdr_avg + dT))\n",
    "    # print(2, W)\n",
    "    \n",
    "    # 3 - текущее наклонение\n",
    "    i_avg = 63 / 180 * pi\n",
    "    i = di + i_avg\n",
    "    # print(3, i)\n",
    "    #TODO: результат не сходится с примеров в документации\n",
    "    # #i = 1.1305666106990377\n",
    "    \n",
    "    # 4 - средний драконический период на витке W+1 и среднее движение\n",
    "    Tdr = Tdr_avg + dT + (2*W + 1) * dT_dot\n",
    "    n = 2*pi / Tdr\n",
    "    # print(4, Tdr, n)\n",
    "    \n",
    "    # 5 - рассчитывается большая полуось последовательными приближениями (m=0, 1, 2...)\n",
    "    T1 = Tdr\n",
    "    a0 = -1\n",
    "    a1 = 0\n",
    "    p1 = 0\n",
    "    while abs(a0-a1) > 1e-3:\n",
    "        a1 = ((T1/2/pi)**2 * GM) ** (1.0/3.0)\n",
    "        p1 = a1 * (1-e**2)\n",
    "        Ttt = (2-2.5*sin(i)**2) * ((1-e**2) ** 1.5 / (1 + e * cos(w_A * pi)) ** 2) + (1 + e * cos(w_A * pi)) ** 3 / (1 - e ** 2)\n",
    "        Tdown = 1 - 1.5 * J20 * (ae/p1)** 2 * Ttt\n",
    "        T1 = Tdr / Tdown\n",
    "        a0 = a1\n",
    "    # T1, a1, p1\n",
    "    # print(5, a1, p1, T1)\n",
    "    \n",
    "    # 6 - текущее значение долготы восходящего узла и аргумента перигея\n",
    "    lmb = lambda_A - (wz + 1.5*J20*n*(ae/p1)**2*cos(i))* dt_pr\n",
    "    w = w_A - 0.75 * J20 * n * (ae/p1)**2 * (1-5*cos(i)**2) * dt_pr\n",
    "    # print(6, lmb, w)\n",
    "    \n",
    "    # 7 - среднее значение долготы на момент прохождения восходящего узла\n",
    "    E0 = -2 * atan(sqrt((1-e)/(1+e)) * tan(w/2))\n",
    "    L1 = w + E0 - e*sin(E0)\n",
    "    # print(7, E0, L1)\n",
    "    \n",
    "    # 8 - текущее значение долготы НКА\n",
    "    L = L1 + n * (dt_pr - (Tdr_avg + dT)*W - dT_dot*W**2)\n",
    "    L2 = L\n",
    "    # print(8, L)\n",
    "\n",
    "    # 9 - для повышения точности, можно опустить\n",
    "    # TODO: добавить п.9\n",
    "    \n",
    "    # 10 - эксцентрическая аномалия\n",
    "    E1 = 10 + E0\n",
    "    while abs(E1-E0) > 1e-9:\n",
    "        E0 = E1\n",
    "        E1 = L - w + e * sin(E0)\n",
    "    E = E1\n",
    "    # 11 истинняа аномалия и аргумент широты\n",
    "    nu = 2 * atan( sqrt((1+e)/(1-e)) * tan(E/2))\n",
    "    u = nu + w\n",
    "    \n",
    "    # 12 - координаты ЦМ в прямоугольной ск\n",
    "    p = a1 * (1-e**2)\n",
    "    r = p / (1+e * cos(nu))\n",
    "    X = r * (cos(lmb)*cos(u)-sin(lmb)*sin(u)*cos(i))\n",
    "    Y = r * (sin(lmb)*cos(u)+cos(lmb)*sin(u)*cos(i))\n",
    "    Z = r * sin(u) * sin(i)\n",
    "    \n",
    "    # print(X, Y, Z)\n",
    "    import Transformations\n",
    "    # print(*Transformations.ecef2lla(X, Y, Z))\n",
    "    return X, Y, Z\n",
    "\n",
    "prMes = {\n",
    "    7: 17931698.162640072,\n",
    "    16: 17247315.440587413,\n",
    "    17: 19352936.817768987,\n",
    "    24: 21353624.2500098,\n",
    "}\n",
    "import Transformations\n",
    "data = []\n",
    "eph = gle.loc[6]\n",
    "for svId in prMes.keys():\n",
    "    alm = gla.loc[svId-1]\n",
    "    # eph = gle.loc[svId-1]\n",
    "    assert svId == alm.svId# and svId == eph.svId\n",
    "    x, y, z = calc_glo_alm(alm, eph, t1, N)\n",
    "    print(svId, tuple(np.array(Transformations.ecef2lla(x, y, z)).round(2)), round(prMes[svId], -3))\n",
    "    data.append((x, y, z, prMes[svId]))\n"
   ],
   "metadata": {
    "collapsed": false,
    "ExecuteTime": {
     "end_time": "2024-07-22T21:03:34.990004600Z",
     "start_time": "2024-07-22T21:03:34.981859400Z"
    }
   },
   "id": "17016a5211a3fb0c",
   "execution_count": 20
  },
  {
   "cell_type": "code",
   "outputs": [
    {
     "name": "stdout",
     "output_type": "stream",
     "text": [
      "Optimization terminated successfully    (Exit mode 0)\n",
      "            Current function value: 48929587592.090385\n",
      "            Iterations: 86\n",
      "            Function evaluations: 585\n",
      "            Gradient evaluations: 86\n",
      " message: Optimization terminated successfully\n",
      " success: True\n",
      "  status: 0\n",
      "     fun: 48929587592.090385\n",
      "       x: [ 2.828e+06  2.373e+06  3.724e+06 -3.456e+06]\n",
      "     nit: 86\n",
      "     jac: [-2.048e+04 -8.858e+04 -8.704e+04 -5.120e+02]\n",
      "    nfev: 585\n",
      "    njev: 86\n",
      "dt: -0.011528917924381701\n",
      "(45.479663799024976, 40.00324263089771, -1123275.200322042)\n"
     ]
    }
   ],
   "source": [
    "import Minimizing\n",
    "res1 = Minimizing.solve_navigation_task_SLSQP(data)\n",
    "print(res1)\n",
    "dt = res1.x[-1] / Constants.c\n",
    "print(f'dt: {dt}')\n",
    "import Transformations\n",
    "lla = Transformations.ecef2lla(*res1.x[:-1])\n",
    "print(lla)"
   ],
   "metadata": {
    "collapsed": false,
    "ExecuteTime": {
     "end_time": "2024-07-22T20:49:20.103221700Z",
     "start_time": "2024-07-22T20:49:20.054326100Z"
    }
   },
   "id": "1943523b3d7a0a57",
   "execution_count": 9
  },
  {
   "cell_type": "code",
   "outputs": [
    {
     "name": "stdout",
     "output_type": "stream",
     "text": [
      "     message: `xtol` termination condition is satisfied.\n",
      "     success: True\n",
      "      status: 3\n",
      "         fun: [ 7.471e-04  1.012e-03  3.840e-04  1.216e-04]\n",
      "           x: [ 2.775e+06  2.175e+06  5.571e+06 -2.038e+06]\n",
      "        cost: 8.721114388533032e-07\n",
      "         jac: [[-3.639e-02  1.346e-02 -3.854e-02  5.467e-02]\n",
      "               [-3.720e-03 -2.761e-02 -5.720e-02  6.362e-02]\n",
      "               [ 2.072e-02 -1.789e-02 -2.808e-02  3.919e-02]\n",
      "               [-1.296e-02 -9.325e-03  1.519e-02 -2.205e-02]]\n",
      "        grad: [-2.457e-05 -2.589e-05 -9.561e-05  1.176e-04]\n",
      "  optimality: 0.00011758257695835634\n",
      " active_mask: [0 0 0 0]\n",
      "        nfev: 211\n",
      "        njev: None\n",
      "dt: -0.006799469126686438\n",
      "(57.83694369172598, 38.08445483012054, 230385.68521757185)\n",
      "0.0022645259861857475\n"
     ]
    }
   ],
   "source": [
    "res2 = Minimizing.solve_navigation_task_LevMar(data)\n",
    "\n",
    "print(res2)\n",
    "dt = res2.x[-1] / Constants.c\n",
    "\n",
    "print(f'dt: {dt}')\n",
    "lla = Transformations.ecef2lla(*res2.x[:-1])\n",
    "print(lla)\n",
    "print(sum(res2.fun))"
   ],
   "metadata": {
    "collapsed": false,
    "ExecuteTime": {
     "end_time": "2024-07-22T20:52:37.519666400Z",
     "start_time": "2024-07-22T20:52:37.511891800Z"
    }
   },
   "id": "14eea7a3b83ffe81",
   "execution_count": 12
  },
  {
   "cell_type": "code",
   "outputs": [
    {
     "name": "stdout",
     "output_type": "stream",
     "text": [
      " message: Optimization terminated successfully.\n",
      " success: True\n",
      "     fun: 1.3877787807814457e-17\n",
      "       x: [ 2.775e+06  2.175e+06  5.571e+06 -2.038e+06]\n",
      "     nit: 295\n",
      "    nfev: 17765\n",
      "dt: -0.006799469217355879\n",
      "(57.83694333146158, 38.08445499698492, 230385.69636427402)\n"
     ]
    }
   ],
   "source": [
    "res3 = Minimizing.solve_navigation_task_GO(data)\n",
    "print(res3)\n",
    "dt = res3.x[-1] / Constants.c\n",
    "\n",
    "print(f'dt: {dt}')\n",
    "lla = Transformations.ecef2lla(*res3.x[:-1])\n",
    "print(lla)"
   ],
   "metadata": {
    "collapsed": false,
    "ExecuteTime": {
     "end_time": "2024-07-22T20:50:02.391429900Z",
     "start_time": "2024-07-22T20:50:00.502159500Z"
    }
   },
   "id": "554fd59c40f1b424",
   "execution_count": 11
  },
  {
   "cell_type": "code",
   "outputs": [],
   "source": [],
   "metadata": {
    "collapsed": false
   },
   "id": "8fd755aeb1ab6ad8"
  }
 ],
 "metadata": {
  "kernelspec": {
   "display_name": "Python 3",
   "language": "python",
   "name": "python3"
  },
  "language_info": {
   "codemirror_mode": {
    "name": "ipython",
    "version": 2
   },
   "file_extension": ".py",
   "mimetype": "text/x-python",
   "name": "python",
   "nbconvert_exporter": "python",
   "pygments_lexer": "ipython2",
   "version": "2.7.6"
  }
 },
 "nbformat": 4,
 "nbformat_minor": 5
}
