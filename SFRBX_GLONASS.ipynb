{
 "cells": [
  {
   "cell_type": "code",
   "outputs": [
    {
     "name": "stdout",
     "output_type": "stream",
     "text": [
      "^C\n"
     ]
    },
    {
     "data": {
      "text/plain": "[]"
     },
     "execution_count": 28,
     "metadata": {},
     "output_type": "execute_result"
    }
   ],
   "source": [
    "!!auto-py-to-exe"
   ],
   "metadata": {
    "collapsed": false
   },
   "id": "651e7b0de44ecb0d",
   "execution_count": 28
  },
  {
   "cell_type": "code",
   "outputs": [],
   "source": [
    "import pandas as pd\n",
    "gpa = pd.read_csv('sfrbx_gps_alm.csv', index_col=0)\n",
    "gpe = pd.read_csv('sfrbx_gps_eph.csv', index_col=0)\n",
    "gla = pd.read_csv('sfrbx_glonass_alm.csv', index_col=0)\n",
    "gle = pd.read_csv('sfrbx_glonass_eph.csv', index_col=0)\n",
    "with open('sfrbx_gps_data.txt', 'r') as file:\n",
    "    gp_data = eval(file.read())"
   ],
   "metadata": {
    "collapsed": false,
    "ExecuteTime": {
     "end_time": "2024-07-22T19:29:27.952703900Z",
     "start_time": "2024-07-22T19:29:27.908805900Z"
    }
   },
   "id": "fedc6b38389ae417",
   "execution_count": 19
  },
  {
   "cell_type": "code",
   "outputs": [
    {
     "name": "stdout",
     "output_type": "stream",
     "text": [
      "SV: 4 glonass\n",
      "22h : 35m\n",
      "1 65857.65625\n",
      "2 1\n",
      "3 1.1384282622369515\n",
      "4 40544.14013671875 0.00015497147765354202\n",
      "5 25508097.942972608 25508074.08936014 40548.01622119976\n",
      "6 -2.4051514765702624 -1.8205149636015134\n",
      "7 1.8195778209248723 -0.001874396771556872\n",
      "8 3.920998751249718\n",
      "8408345.595348286 17744374.917798135 -16248767.427835636\n",
      "-39.65532539186282 64.64560868763841 19117523.17765918\n"
     ]
    }
   ],
   "source": [
    "from math import pi, floor, sin, cos, atan, sqrt, tan\n",
    "import Constants\n",
    "\n",
    "SV = 4\n",
    "alm = gla.loc[SV-1]\n",
    "eph = gle.loc[SV-1]\n",
    "# print(alm)\n",
    "print(f'SV: {SV} glonass')\n",
    "\n",
    "def get_glo_year(N4, N):\n",
    "    if 1 <= N <= 366:\n",
    "        J=1\n",
    "    elif 367 <= N <= 731:\n",
    "        J = 2\n",
    "    elif 732 <= N <= 1096:\n",
    "        J = 3\n",
    "    elif 1097<= N <= 1461:\n",
    "        J = 4\n",
    "    else:\n",
    "        J = 0 # TODO - error\n",
    "    return 1996 + 4 * (N4-1) + (J-1)\n",
    "\n",
    "def get_glo_dNA(N4, NA, N):\n",
    "    k = 1461 if N4 != 27 else 1460\n",
    "    return N - NA - round((N-NA)/k)*k\n",
    "\n",
    "#TODO: переименовать N в NA в преобраовании ГЛОНАСС \n",
    "t1 = 81300 # 22:35\n",
    "print(f'{t1//3600}h : {(t1%3600//60)}m')\n",
    "N = 204 # 22.07.2024\n",
    "# t1, N - время и день, на которые проводится расчет\n",
    "\n",
    "GM = 398600441.8e6\n",
    "ae = 6378136\n",
    "J20 = 1082.62575e-6\n",
    "wz = Constants.OmegaEarthDot\n",
    "\n",
    "NA = eph.N\n",
    "N4 = eph.N4\n",
    "t_lambda = alm.t_lambda_n\n",
    "dT = alm.delta_T_n\n",
    "di = alm.delta_i_n\n",
    "dT_dot = alm.delta_T_dot_n\n",
    "e = alm.eps_n\n",
    "w_A = alm.omega_n\n",
    "lambda_A = alm.lambda_n\n",
    "\n",
    "# для проверки\n",
    "# N = 1453\n",
    "# t1 = 51300\n",
    "# NA = 1452\n",
    "# t_lambda = 33571.625\n",
    "# dT = 0.01953124999975\n",
    "# dT_dot= 6.103515625E-05\n",
    "# lambda_A = -0.293967247009277 * pi\n",
    "# w_A = 0.57867431640625 * pi\n",
    "# e = 0.000432968139648438\n",
    "# di = -0.00012947082519531 * pi\n",
    "\n",
    "# 1 - интервал прогноза dt_pr в сек\n",
    "dNa = get_glo_dNA(N4=N4, NA=NA, N=N)\n",
    "dt_pr = dNa * 86400 + (t1 - t_lambda)\n",
    "print(1, dt_pr)\n",
    "\n",
    "# 2 - количество целых витков W на интервале прогноза\n",
    "Tdr_avg = 43200\n",
    "W = floor(dt_pr / (Tdr_avg + dT))\n",
    "print(2, W)\n",
    "\n",
    "# 3 - текущее наклонение\n",
    "i_avg = 63 / 180 * pi\n",
    "i = di + i_avg\n",
    "print(3, i)\n",
    "#TODO: результат не сходится с примеров в документации\n",
    "# #i = 1.1305666106990377\n",
    "\n",
    "# 4 - средний драконический период на витке W+1 и среднее движение\n",
    "Tdr = Tdr_avg + dT + (2*W + 1) * dT_dot\n",
    "n = 2*pi / Tdr\n",
    "print(4, Tdr, n)\n",
    "\n",
    "# 5 - рассчитывается большая полуось последовательными приближениями (m=0, 1, 2...)\n",
    "T1 = Tdr\n",
    "a0 = -1\n",
    "a1 = 0\n",
    "p1 = 0\n",
    "while abs(a0-a1) > 1e-3:\n",
    "    a1 = ((T1/2/pi)**2 * GM) ** (1.0/3.0)\n",
    "    p1 = a1 * (1-e**2)\n",
    "    Ttt = (2-2.5*sin(i)**2) * ((1-e**2) ** 1.5 / (1 + e * cos(w_A * pi)) ** 2) + (1 + e * cos(w_A * pi)) ** 3 / (1 - e ** 2)\n",
    "    Tdown = 1 - 1.5 * J20 * (ae/p1)** 2 * Ttt\n",
    "    T1 = Tdr / Tdown\n",
    "    a0 = a1\n",
    "# T1, a1, p1\n",
    "print(5, a1, p1, T1)\n",
    "\n",
    "# 6 - текущее значение долготы восходящего узла и аргумента перигея\n",
    "lmb = lambda_A - (wz + 1.5*J20*n*(ae/p1)**2*cos(i))* dt_pr\n",
    "w = w_A - 0.75 * J20 * n * (ae/p1)**2 * (1-5*cos(i)**2) * dt_pr\n",
    "print(6, lmb, w)\n",
    "\n",
    "# 7 - среднее значение долготы на момент прохождения восходящего узла\n",
    "E0 = -2 * atan(sqrt((1-e)/(1+e)) * tan(w/2))\n",
    "L1 = w + E0 - e*sin(E0)\n",
    "print(7, E0, L1)\n",
    "\n",
    "# 8 - текущее значение долготы НКА\n",
    "L = L1 + n * (dt_pr - (Tdr_avg + dT)*W - dT_dot*W**2)\n",
    "L2 = L\n",
    "print(8, L)\n",
    "\n",
    "# 9 - для повышения точности, можно опустить\n",
    "# TODO: добавить п.9\n",
    "\n",
    "# 10 - эксцентрическая аномалия\n",
    "E1 = 10 + E0\n",
    "while abs(E1-E0) > 1e-9:\n",
    "    E0 = E1\n",
    "    E1 = L - w + e * sin(E0)\n",
    "E = E1\n",
    "# 11 истинняа аномалия и аргумент широты\n",
    "nu = 2 * atan( sqrt((1+e)/(1-e)) * tan(E/2))\n",
    "u = nu + w\n",
    "\n",
    "# 12 - координаты ЦМ в прямоугольной ск\n",
    "p = a1 * (1-e**2)\n",
    "r = p / (1+e * cos(nu))\n",
    "X = r * (cos(lmb)*cos(u)-sin(lmb)*sin(u)*cos(i))\n",
    "Y = r * (sin(lmb)*cos(u)+cos(lmb)*sin(u)*cos(i))\n",
    "Z = r * sin(u) * sin(i)\n",
    "\n",
    "print(X, Y, Z)\n",
    "import Transformations\n",
    "print(*Transformations.ecef2lla(X, Y, Z))\n",
    "\n",
    "\n",
    "\n"
   ],
   "metadata": {
    "collapsed": false,
    "ExecuteTime": {
     "end_time": "2024-07-22T19:37:02.677888400Z",
     "start_time": "2024-07-22T19:37:02.660232Z"
    }
   },
   "id": "17016a5211a3fb0c",
   "execution_count": 25
  },
  {
   "cell_type": "code",
   "outputs": [
    {
     "data": {
      "text/plain": "2.5784864391716438"
     },
     "execution_count": 18,
     "metadata": {},
     "output_type": "execute_result"
    }
   ],
   "source": [
    "n * ( dt_pr - Tdr_avg * W)"
   ],
   "metadata": {
    "collapsed": false,
    "ExecuteTime": {
     "end_time": "2024-07-22T18:52:20.411511700Z",
     "start_time": "2024-07-22T18:52:20.401795600Z"
    }
   },
   "id": "1943523b3d7a0a57",
   "execution_count": 18
  },
  {
   "cell_type": "code",
   "outputs": [],
   "source": [],
   "metadata": {
    "collapsed": false
   },
   "id": "14eea7a3b83ffe81"
  }
 ],
 "metadata": {
  "kernelspec": {
   "display_name": "Python 3",
   "language": "python",
   "name": "python3"
  },
  "language_info": {
   "codemirror_mode": {
    "name": "ipython",
    "version": 2
   },
   "file_extension": ".py",
   "mimetype": "text/x-python",
   "name": "python",
   "nbconvert_exporter": "python",
   "pygments_lexer": "ipython2",
   "version": "2.7.6"
  }
 },
 "nbformat": 4,
 "nbformat_minor": 5
}
