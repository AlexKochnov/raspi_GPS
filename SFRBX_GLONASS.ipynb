{
 "cells": [
  {
   "cell_type": "code",
   "outputs": [
    {
     "name": "stdout",
     "output_type": "stream",
     "text": [
      "^C\n"
     ]
    },
    {
     "data": {
      "text/plain": "[]"
     },
     "execution_count": 28,
     "metadata": {},
     "output_type": "execute_result"
    }
   ],
   "source": [
    "from typing import Tuple\n",
    "!!auto-py-to-exe"
   ],
   "metadata": {
    "collapsed": false
   },
   "id": "651e7b0de44ecb0d",
   "execution_count": 28
  },
  {
   "cell_type": "code",
   "outputs": [],
   "source": [
    "# import pandas as pd\n",
    "# gpa = pd.read_csv('sfrbx_gps_alm.csv', index_col=0)\n",
    "# gpe = pd.read_csv('sfrbx_gps_eph.csv', index_col=0)\n",
    "# gla = pd.read_csv('sfrbx_glonass_alm.csv', index_col=0)\n",
    "# gle = pd.read_csv('sfrbx_glonass_eph.csv', index_col=0)\n",
    "# with open('sfrbx_gps_data.txt', 'r') as file:\n",
    "#     gp_data = eval(file.read())"
   ],
   "metadata": {
    "collapsed": false,
    "ExecuteTime": {
     "end_time": "2024-07-23T07:45:31.018009300Z",
     "start_time": "2024-07-23T07:45:30.995946100Z"
    }
   },
   "id": "fedc6b38389ae417",
   "execution_count": 35
  },
  {
   "cell_type": "code",
   "outputs": [
    {
     "name": "stdout",
     "output_type": "stream",
     "text": [
      "0:00:00.002186\n"
     ]
    }
   ],
   "source": [
    "# import pickle\n",
    "# from datetime import datetime\n",
    "# import Constants\n",
    "# t1 = datetime.now(tz=Constants.tz_utc)\n",
    "# SFRBX_GLONASS_PATH = 'glonass_sfrbx.plk'\n",
    "# with open(SFRBX_GLONASS_PATH, 'wb') as file:\n",
    "#     pickle.dump(gpe, file)\n",
    "#     pickle.dump(gpa, file)\n",
    "#     pickle.dump(gle, file)\n",
    "#     pickle.dump(gla, file)\n",
    "#     pickle.dump(gp_data, file)\n",
    "# t2 = datetime.now(tz=Constants.tz_utc)\n",
    "# print(t2-t1)  "
   ],
   "metadata": {
    "collapsed": false,
    "ExecuteTime": {
     "end_time": "2024-07-23T07:06:34.711821300Z",
     "start_time": "2024-07-23T07:06:34.699733500Z"
    }
   },
   "id": "6ce9dfa2162b05d9",
   "execution_count": 34
  },
  {
   "cell_type": "code",
   "outputs": [],
   "source": [
    "# SFRBX_GLONASS_PATH = 'glonass_sfrbx.plk'\n",
    "SFRBX_path = 'sfrbx_data.plk'\n",
    "import pickle\n",
    "with open(SFRBX_path, 'rb') as file:\n",
    "    gpe7 = pickle.load(file)\n",
    "    gpa7 = pickle.load(file)\n",
    "    gle7 = pickle.load(file)\n",
    "    gla7 = pickle.load(file)\n",
    "    gpD7 = pickle.load(file)\n",
    "# gla1 == gla"
   ],
   "metadata": {
    "collapsed": false,
    "ExecuteTime": {
     "end_time": "2024-07-23T17:22:15.495611100Z",
     "start_time": "2024-07-23T17:22:15.479688400Z"
    }
   },
   "id": "207b3c4fb68d50aa",
   "execution_count": 68
  },
  {
   "cell_type": "code",
   "outputs": [
    {
     "name": "stdout",
     "output_type": "stream",
     "text": [
      "24h : 0m = (86400 sec)\n"
     ]
    }
   ],
   "source": [
    "import numpy as np\n",
    "from math import pi, floor, sin, cos, atan, sqrt, tan, atan2\n",
    "import Constants\n",
    "import Transformations\n",
    "\n",
    "\n",
    "def get_glo_year(N4, N):\n",
    "    if 1 <= N <= 366:\n",
    "        J=1\n",
    "    elif 367 <= N <= 731:\n",
    "        J = 2\n",
    "    elif 732 <= N <= 1096:\n",
    "        J = 3\n",
    "    elif 1097<= N <= 1461:\n",
    "        J = 4\n",
    "    else:\n",
    "        J = 0 # TODO - error\n",
    "    return 1996 + 4 * (N4-1) + (J-1)\n",
    "\n",
    "def get_glo_dNA(N4, NA, N):\n",
    "    k = 1461 if N4 != 27 else 1460\n",
    "    return N - NA - round((N-NA)/k)*k\n",
    "\n",
    "#TODO: переименовать N в NA в преобраовании ГЛОНАСС \n",
    "# t1 = 81300 # 22:35\n",
    "t1 = 24 * 3600 + 0 * 60\n",
    "print(f'{t1//3600}h : {(t1%3600//60)}m = ({t1} sec)')\n",
    "N = 204 # 22.07.2024\n",
    "# t1, N - время и день, на которые проводится расчет\n",
    "\n",
    "def calc_glo_alm(alm, eph, t1, N, hard=True):\n",
    "    GM = Constants.mu\n",
    "    ae = Constants.ae_glonass\n",
    "    J20 = Constants.J20_glonass\n",
    "    OmegaEath = Constants.OmegaEarthDot\n",
    "    \n",
    "    NA = eph.NA\n",
    "    N4 = eph.N4\n",
    "    t_lambda = alm.t_lambda_n\n",
    "    dT = alm.delta_T_n\n",
    "    di = alm.delta_i_n\n",
    "    dT_dot = alm.delta_T_dot_n\n",
    "    e = alm.eps_n\n",
    "    w_A = alm.omega_n\n",
    "    lambda_A = alm.lambda_n\n",
    "    \n",
    "    # для проверки\n",
    "    # N = 1453\n",
    "    # t1 = 51300\n",
    "    # NA = 1452\n",
    "    # t_lambda = 33571.625\n",
    "    # dT = 0.01953124999975\n",
    "    # dT_dot= 6.103515625E-05\n",
    "    # lambda_A = -0.293967247009277 * pi\n",
    "    # w_A = 0.57867431640625 * pi\n",
    "    # e = 0.000432968139648438\n",
    "    # di = -0.00012947082519531 * pi\n",
    "    \n",
    "    # 1 - интервал прогноза dt_pr в сек\n",
    "    dNa = get_glo_dNA(N4=N4, NA=NA, N=N)\n",
    "    dt_pr = dNa * 86400 + (t1 - t_lambda)\n",
    "    # print(1, dt_pr)\n",
    "    \n",
    "    # 2 - количество целых витков W на интервале прогноза\n",
    "    Tdr_avg = 43200\n",
    "    W = floor(dt_pr / (Tdr_avg + dT))\n",
    "    # print(2, W)\n",
    "    \n",
    "    # 3 - текущее наклонение\n",
    "    i_avg = 63 / 180 * pi\n",
    "    i = di + i_avg\n",
    "    # print(3, i)\n",
    "    #TODO: результат не сходится с примеров в документации\n",
    "    # #i = 1.1305666106990377\n",
    "    \n",
    "    # 4 - средний драконический период на витке W+1 и среднее движение\n",
    "    Tdr = Tdr_avg + dT + (2*W + 1) * dT_dot\n",
    "    n = 2*pi / Tdr\n",
    "    # print(4, Tdr, n)\n",
    "    \n",
    "    # 5 - рассчитывается большая полуось последовательными приближениями (m=0, 1, 2...)\n",
    "    T1 = Tdr\n",
    "    a0 = -1\n",
    "    a = 0\n",
    "    p = 0\n",
    "    while abs(a0-a) > 1e-3:\n",
    "        a0 = a\n",
    "        a = ((T1/2/pi)**2 * GM) ** (1.0/3.0)\n",
    "        p = a * (1-e**2)\n",
    "        Ttt = (2-2.5*sin(i)**2) * ((1-e**2) ** 1.5 / (1 + e * cos(w_A * pi)) ** 2) + (1 + e * cos(w_A * pi)) ** 3 / (1 - e ** 2)\n",
    "        Tdown = 1 - 1.5 * J20 * (ae/p)** 2 * Ttt\n",
    "        T1 = Tdr / Tdown\n",
    "    # print(5, a1, p1, T1)\n",
    "    \n",
    "    # 6 - текущее значение долготы восходящего узла и аргумента перигея\n",
    "    lmb = lambda_A - (OmegaEath + 1.5*J20*n*(ae/p)**2*cos(i))* dt_pr\n",
    "    w = w_A - 0.75 * J20 * n * (ae/p)**2 * (1-5*cos(i)**2) * dt_pr\n",
    "    # print(6, lmb, w)\n",
    "    \n",
    "    # 7 - среднее значение долготы на момент прохождения восходящего узла\n",
    "    E0 = -2 * atan(sqrt((1-e)/(1+e)) * tan(w/2))\n",
    "    L1 = w + E0 - e*sin(E0)\n",
    "    # print(7, E0, L1)\n",
    "    \n",
    "    # 8 - текущее значение долготы НКА\n",
    "    L = L1 + n * (dt_pr - (Tdr_avg + dT)*W - dT_dot*W**2)\n",
    "    L2 = L\n",
    "    # print(8, L)\n",
    "    \n",
    "    # 9 - для повышения точности, можно опустить\n",
    "    def calc_derivatives(Lk):\n",
    "        B = 1.5 * J20 * (ae/a)**2\n",
    "        da_a_k = 2*B*(1-1.5*sin(i)**2) * (l*cos(Lk) + h * sin(Lk)) + B * sin(i)**2 * (0.5*h*sin(Lk) - 0.5*l*cos(Lk) + cos(2*Lk) + 3.5*l*cos(3*Lk) + 3.5*h*sin(3*Lk))\n",
    "        da_k = da_a_k * a\n",
    "        dh_k = B * (1-1.5*sin(i)**2) * (sin(Lk)+1.5*l*sin(2*Lk)-1.5*h*cos(2*Lk)) - 0.25*B*sin(i)**2 * (sin(Lk)-(7.0/3.0) * sin(3*Lk) + 5*l*sin(2*Lk) - 8.5*l*sin(4*Lk) + 8.5*h*cos(4*Lk) + h*cos(2*Lk)) + (-0.5*B*cos(i)**2*l*sin(2*Lk))\n",
    "        dl_k = B * (1-1.5*sin(i)**2) * (cos(Lk)+1.5*l*cos(2*Lk)+1.5*h*sin(2*Lk)) - 0.25*B*sin(i)**2 * (-cos(Lk)-(7.0/3.0)* cos(3*Lk) - 5*h*sin(2*Lk) - 8.5*l*cos(4*Lk) - 8.5*h*sin(4*Lk) + l*cos(2*Lk)) + 0.5*B*cos(i)**2*h*sin(2*Lk)\n",
    "        dlmb_k = -B*cos(i)*(3.5*l*sin(Lk)-2.5*h*cos(Lk)-0.5*sin(2*Lk)-(7.0/6.0)*l*sin(3*Lk)+(7.0/6.0)*h*cos(3*Lk))\n",
    "        di_k = 0.5*B*sin(i)*cos(i)*(-l*cos(Lk)+h*sin(Lk) +cos(2*Lk) + (7.0/3.0)*l*cos(3*Lk)+(7.0/3.0)*h*sin(3*Lk))\n",
    "        dL_k = 2*B*(1-1.5*sin(i)**2) * (1.75*l*sin(Lk) - 1.75*h*cos(Lk)) + 3*B*sin(i)**2 * (-(7.0/24.0)*h*cos(Lk)-(7.0/24.0)*l*sin(Lk) -(49.0/72.0)*h*cos(3*Lk) + (49.0/72.0)*l*sin(3*Lk) + 0.25*sin(2*Lk)) + B*cos(i)**2 * (3.5*l*sin(Lk)-2.5*h*cos(Lk)-0.5*sin(2*Lk)-(7.0/6.0)*l*sin(3*Lk) + (7.0/6.0)*h*cos(3*Lk))\n",
    "        return da_k, dh_k, dl_k, dlmb_k, di_k, dL_k\n",
    "    if hard:\n",
    "        h = e * sin(w)\n",
    "        l = e * cos(w)\n",
    "        \n",
    "        da1, dh1, dl1, dlmb1, di1, dL1 = calc_derivatives(Lk=L1)\n",
    "        da2, dh2, dl2, dlmb2, di2, dL2 = calc_derivatives(Lk=L2)\n",
    "        \n",
    "        a = a + da2 - da1\n",
    "        h = h + dh2 - dh1\n",
    "        l = l + dl2 - dl1\n",
    "        e = sqrt(h**2+l**2)\n",
    "        i = i + di2 - di1\n",
    "        lmb = lmb + dlmb2 - dlmb1\n",
    "        w = atan2(h, l) #atan(h/l)\n",
    "        L = L + dL2 - dL1\n",
    "    \n",
    "    # 10 - эксцентрическая аномалия\n",
    "    E1 = 10 + E0\n",
    "    while abs(E1-E0) > 1e-9:\n",
    "        E0 = E1\n",
    "        E1 = L - w + e * sin(E0)\n",
    "    E = E1\n",
    "    \n",
    "    # 11 истинняа аномалия и аргумент широты\n",
    "    nu = 2 * atan( sqrt((1+e)/(1-e)) * tan(E/2))\n",
    "    u = nu + w\n",
    "    \n",
    "    # 12 - координаты ЦМ в прямоугольной ск\n",
    "    p = a * (1-e**2)\n",
    "    r = p / (1+e * cos(nu))\n",
    "    X = r * (cos(lmb)*cos(u)-sin(lmb)*sin(u)*cos(i))\n",
    "    Y = r * (sin(lmb)*cos(u)+cos(lmb)*sin(u)*cos(i))\n",
    "    Z = r * sin(u) * sin(i)\n",
    "    \n",
    "    # Vr = sqrt(GM/p) * e * sin(nu)\n",
    "    # Vu = sqrt(GM/p) * (1+e*cos(nu))\n",
    "    # Vx = Vr * (cos(lmb)*cos(u)-sin(lmb)*sin(u)*cos(i)) - Vu * (cos(lmb)*sin(u)+sin(lmb)*cos(u)*cos(i)) + OmegaEath * Y\n",
    "    # Vy = Vr * (sin(lmb)*cos(u)+cos(lmb)*sin(u)*cos(i)) - Vu * (sin(lmb)*sin(u)-cos(lmb)*cos(u)*cos(i)) - OmegaEath * X\n",
    "    # Vz = Vr * (sin(u)*sin(i)) + Vu * (cos(u)*sin(i))\n",
    "    \n",
    "    return X, Y, Z\n",
    "\n",
    "prMes = {\n",
    "    7: 17931698.162640072,\n",
    "    16: 17247315.440587413,\n",
    "    17: 19352936.817768987,\n",
    "    24: 21353624.2500098,\n",
    "}\n",
    "# import Transformations\n",
    "# data = []\n",
    "# eph = gle.loc[6]\n",
    "# for svId in prMes.keys():\n",
    "#     alm = gla.loc[svId-1]\n",
    "#     # eph = gle.loc[svId-1]\n",
    "#     assert svId == alm.svId# and svId == eph.svId\n",
    "#     x, y, z = calc_glo_alm(alm, eph, t1, N)\n",
    "#     print(svId, tuple(np.array(Transformations.ecef2lla(x, y, z)).round(2)), round(prMes[svId], -3))\n",
    "#     data.append((x, y, z, prMes[svId]))"
   ],
   "metadata": {
    "collapsed": false,
    "ExecuteTime": {
     "end_time": "2024-07-23T16:42:47.023503700Z",
     "start_time": "2024-07-23T16:42:46.994219100Z"
    }
   },
   "id": "17016a5211a3fb0c",
   "execution_count": 19
  },
  {
   "cell_type": "code",
   "outputs": [
    {
     "name": "stdout",
     "output_type": "stream",
     "text": [
      "2542402.4373395117 25369517.467169758 -463051.8096480523 (-1.0421973217533904, 84.2772188935492, 19122666.97288603) alm calced\n",
      "2544529.9122669343 25369228.130712498 -460934.54010835016 193.9920737529572 -88.41871007550772 -3589.5457736995468 eph calced\n",
      "2544520.99609375 25369229.98046875 -460937.98828125 193.98212432861328 -88.41609954833984 -3589.5490646362305 from eph\n"
     ]
    }
   ],
   "source": [
    "sv = 4\n",
    "eph = gle3.loc[sv-1]\n",
    "eph2 = gle5.loc[sv-1]\n",
    "# eph3 = gle4.loc[sv-1]\n",
    "alm = gla3.loc[sv-1]\n",
    "alm2 = gla5.loc[sv-1]\n",
    "N = 205\n",
    "t1 = eph2.tb\n",
    "# xa, ya, za = calc_glo_alm(alm, eph, t1, N, hard=True)\n",
    "xa, ya, za = calc_glo_alm(gla4.loc[sv-1], eph, t1, N, hard=True)\n",
    "# xa2, ya2, za2 = calc_glo_alm(alm2, eph2, t1, N, hard=True)\n",
    "xe, ye, ze, vx, vy, vz = calc_glo_eph_simple(eph, t1, N).y[:, -1]\n",
    "x2, y2, z2, vx2, vy2, vz2 = eph2[['x', 'y', 'z', 'dx', 'dy', 'dz']] * 1000\n",
    "\n",
    "print(xa, ya, za, Transformations.ecef2lla(xa, ya, za), 'alm calced')\n",
    "# print(xa2, ya2, za2, Transformations.ecef2lla(xa2, ya2, za2))\n",
    "print(xe, ye, ze, vx, vy, vz, 'eph calced')\n",
    "print(x2, y2, z2, vx2, vy2, vz2, 'from eph')\n",
    "# print(eph3[['x', 'y', 'z', 'dx', 'dy', 'dz']])"
   ],
   "metadata": {
    "collapsed": false,
    "ExecuteTime": {
     "end_time": "2024-07-23T17:19:52.932887900Z",
     "start_time": "2024-07-23T17:19:52.762133400Z"
    }
   },
   "id": "e6226b6ecd01755b",
   "execution_count": 67
  },
  {
   "cell_type": "code",
   "outputs": [],
   "source": [],
   "metadata": {
    "collapsed": false,
    "ExecuteTime": {
     "end_time": "2024-07-23T17:13:55.628266Z",
     "start_time": "2024-07-23T17:13:55.607177100Z"
    }
   },
   "id": "8e2c4f199879551a",
   "execution_count": 58
  },
  {
   "cell_type": "code",
   "outputs": [
    {
     "name": "stdout",
     "output_type": "stream",
     "text": [
      "19.0h : 45.0m\n",
      "4\n",
      "2544529.9122669343 25369228.130712498 -460934.54010835016\n",
      "(-1.0374360825490556, 84.27239702447706, 19122552.900628805)\n"
     ]
    }
   ],
   "source": [
    "import numpy as np\n",
    "from math import pi, floor, sin, cos, atan, sqrt, tan, atan2\n",
    "import Constants\n",
    "import Transformations\n",
    "from scipy.integrate import RK45 , solve_ivp, odeint\n",
    "\n",
    "def calc_glo_eph_simple(eph, t1, N):\n",
    "    X0 = eph.x\n",
    "    Vx0 = eph.dx\n",
    "    ddx = eph.ddx\n",
    "    Y0 = eph.y\n",
    "    Vy0 = eph.dy\n",
    "    ddy = eph.ddy\n",
    "    Z0 = eph.z\n",
    "    Vz0 = eph.dz\n",
    "    ddz = eph.ddz\n",
    "    tb = eph.tb\n",
    "    \n",
    "    maxT = lambda ti: ti - round((ti-tb)/86400)*86400\n",
    "    \n",
    "    ae = Constants.ae_glonass\n",
    "    GM = Constants.mu\n",
    "    J20 = Constants.J20_glonass\n",
    "    OmegaEarth = Constants.OmegaEarthDot\n",
    "    \n",
    "    y0 = np.array([X0, Y0, Z0, Vx0, Vy0, Vz0]) * 1000\n",
    "    def func(t, y):\n",
    "        X, Y, Z, Vx, Vy, Vz = y\n",
    "        r = sqrt(X**2+Y**2+Z**2)\n",
    "        dVx = -GM/r**3 * X - 1.5*J20*GM*ae**2/r**5 * X * (1 - 5*Z**2/r**2) + OmegaEarth**2 * X + 2 * OmegaEarth * Vy + ddx\n",
    "        dVy = -GM/r**3 * Y - 1.5*J20*GM*ae**2/r**5 * Y * (1 - 5*Z**2/r**2) + OmegaEarth**2 * Y - 2 * OmegaEarth * Vx + ddy\n",
    "        dVz = -GM/r**3 * Z - 1.5*J20*GM*ae**2/r**5 * Z * (3 - 5*Z**2/r**2) + ddz\n",
    "        # print(t, np.array([X, Y, Z, Vx, Vy, Vz, dVx, dVy, dVz]).round(0))\n",
    "        return np.array([Vx, Vy, Vz, dVx, dVy, dVz])\n",
    "    # runer = RK45(func, tb, y0, t1, first_step=1)\n",
    "    # \n",
    "    # while runer.status == 'running':\n",
    "    #     runer.step()\n",
    "    #     # print(runer.t, runer.y.round(3))\n",
    "    # # print(runer.t, runer.y.round(3))\n",
    "    # return runer.y\n",
    "    res = solve_ivp(func, (tb, t1), y0, method='RK45', max_step=10, first_step=1)\n",
    "    return res\n",
    "\n",
    "# t1 = 81300 # 22:35\n",
    "# t1 = 23 * 3600 + 43 * 60\n",
    "print(f'{t1//3600}h : {(t1%3600//60)}min')\n",
    "N = 204 # 22.07.2024\n",
    "# t1, N - время и день, на которые проводится расчет\n",
    "res = calc_glo_eph_simple(eph, t1, N)\n",
    "x, y, z, Vx, Vy, Vz = res.y[:, -1]\n",
    "print(eph.svId)\n",
    "print(x, y, z)\n",
    "print(Transformations.ecef2lla(x, y, z))"
   ],
   "metadata": {
    "collapsed": false,
    "ExecuteTime": {
     "end_time": "2024-07-23T17:19:49.231795400Z",
     "start_time": "2024-07-23T17:19:49.036183900Z"
    }
   },
   "id": "ff032efd091cb3e9",
   "execution_count": 66
  },
  {
   "cell_type": "code",
   "outputs": [
    {
     "name": "stdout",
     "output_type": "stream",
     "text": [
      "2456177.5\n",
      "2488222.0 68.0 4573.0 12.0 190.0 6.0\n",
      "7.0 9.0 2012.0 5.0 29191.4428297696\n"
     ]
    }
   ],
   "source": [
    "def calc_julian_day(N4: int, N: int) -> tuple[int, int, int, int, float]:\n",
    "    JD0 = 1461 * (N4-1) + N + 2450082.5\n",
    "    JDN = JD0 + 0.5\n",
    "    a = JDN + 32044\n",
    "    b = (4*a+3)//146097\n",
    "    c = a - (146097*b)//4\n",
    "    d = (4*c+3) // 1461\n",
    "    e =c - (1461*d)//4\n",
    "    m = (5*e+2)//153\n",
    "    \n",
    "    day: int = e - (153*m+2) // 5 + 1\n",
    "    month: int = m + 3 - 12 * (m//10)\n",
    "    year: int = 100*b + d - 4800 + (m//10)\n",
    "    day_of_week: int = JDN % 7 + 1\n",
    "    \n",
    "    ERA = 2 * pi * (0.7790572732640 + 1.00273781191135448 * (JD0 - 2451545.0))\n",
    "    dT = (JD0 - 2451545.0) / 36525\n",
    "    GMST = ERA + 0.0000000703270726 + 0.0223603658710194 * dT + 0.0000067465784654 * dT**2  - 0.0000000000021332 * dT**3  -0.0000000001452308 *dT**4 - 0.0000000000001784 *dT**5 \n",
    "    return day, month, year, day_of_week, GMST\n",
    "N = 251\n",
    "N4 = 5\n",
    "calc_julian_day(N4, N)"
   ],
   "metadata": {
    "collapsed": false,
    "ExecuteTime": {
     "end_time": "2024-07-23T12:22:09.282681200Z",
     "start_time": "2024-07-23T12:22:09.270643400Z"
    }
   },
   "id": "28256ceccd494596",
   "execution_count": 62
  },
  {
   "cell_type": "code",
   "outputs": [
    {
     "name": "stdout",
     "output_type": "stream",
     "text": [
      "Optimization terminated successfully    (Exit mode 0)\n",
      "            Current function value: 48929587592.090385\n",
      "            Iterations: 86\n",
      "            Function evaluations: 585\n",
      "            Gradient evaluations: 86\n",
      " message: Optimization terminated successfully\n",
      " success: True\n",
      "  status: 0\n",
      "     fun: 48929587592.090385\n",
      "       x: [ 2.828e+06  2.373e+06  3.724e+06 -3.456e+06]\n",
      "     nit: 86\n",
      "     jac: [-2.048e+04 -8.858e+04 -8.704e+04 -5.120e+02]\n",
      "    nfev: 585\n",
      "    njev: 86\n",
      "dt: -0.011528917924381701\n",
      "(45.479663799024976, 40.00324263089771, -1123275.200322042)\n"
     ]
    }
   ],
   "source": [
    "import Minimizing\n",
    "res1 = Minimizing.solve_navigation_task_SLSQP(data)\n",
    "print(res1)\n",
    "dt = res1.x[-1] / Constants.c\n",
    "print(f'dt: {dt}')\n",
    "import Transformations\n",
    "lla = Transformations.ecef2lla(*res1.x[:-1])\n",
    "print(lla)"
   ],
   "metadata": {
    "collapsed": false,
    "ExecuteTime": {
     "end_time": "2024-07-22T20:49:20.103221700Z",
     "start_time": "2024-07-22T20:49:20.054326100Z"
    }
   },
   "id": "1943523b3d7a0a57",
   "execution_count": 9
  },
  {
   "cell_type": "code",
   "outputs": [
    {
     "name": "stdout",
     "output_type": "stream",
     "text": [
      "     message: `xtol` termination condition is satisfied.\n",
      "     success: True\n",
      "      status: 3\n",
      "         fun: [ 7.471e-04  1.012e-03  3.840e-04  1.216e-04]\n",
      "           x: [ 2.775e+06  2.175e+06  5.571e+06 -2.038e+06]\n",
      "        cost: 8.721114388533032e-07\n",
      "         jac: [[-3.639e-02  1.346e-02 -3.854e-02  5.467e-02]\n",
      "               [-3.720e-03 -2.761e-02 -5.720e-02  6.362e-02]\n",
      "               [ 2.072e-02 -1.789e-02 -2.808e-02  3.919e-02]\n",
      "               [-1.296e-02 -9.325e-03  1.519e-02 -2.205e-02]]\n",
      "        grad: [-2.457e-05 -2.589e-05 -9.561e-05  1.176e-04]\n",
      "  optimality: 0.00011758257695835634\n",
      " active_mask: [0 0 0 0]\n",
      "        nfev: 211\n",
      "        njev: None\n",
      "dt: -0.006799469126686438\n",
      "(57.83694369172598, 38.08445483012054, 230385.68521757185)\n",
      "0.0022645259861857475\n"
     ]
    }
   ],
   "source": [
    "res2 = Minimizing.solve_navigation_task_LevMar(data)\n",
    "\n",
    "print(res2)\n",
    "dt = res2.x[-1] / Constants.c\n",
    "\n",
    "print(f'dt: {dt}')\n",
    "lla = Transformations.ecef2lla(*res2.x[:-1])\n",
    "print(lla)\n",
    "print(sum(res2.fun))"
   ],
   "metadata": {
    "collapsed": false,
    "ExecuteTime": {
     "end_time": "2024-07-22T20:52:37.519666400Z",
     "start_time": "2024-07-22T20:52:37.511891800Z"
    }
   },
   "id": "14eea7a3b83ffe81",
   "execution_count": 12
  },
  {
   "cell_type": "code",
   "outputs": [
    {
     "name": "stdout",
     "output_type": "stream",
     "text": [
      " message: Optimization terminated successfully.\n",
      " success: True\n",
      "     fun: 1.3877787807814457e-17\n",
      "       x: [ 2.775e+06  2.175e+06  5.571e+06 -2.038e+06]\n",
      "     nit: 295\n",
      "    nfev: 17765\n",
      "dt: -0.006799469217355879\n",
      "(57.83694333146158, 38.08445499698492, 230385.69636427402)\n"
     ]
    }
   ],
   "source": [
    "res3 = Minimizing.solve_navigation_task_GO(data)\n",
    "print(res3)\n",
    "dt = res3.x[-1] / Constants.c\n",
    "\n",
    "print(f'dt: {dt}')\n",
    "lla = Transformations.ecef2lla(*res3.x[:-1])\n",
    "print(lla)"
   ],
   "metadata": {
    "collapsed": false,
    "ExecuteTime": {
     "end_time": "2024-07-22T20:50:02.391429900Z",
     "start_time": "2024-07-22T20:50:00.502159500Z"
    }
   },
   "id": "554fd59c40f1b424",
   "execution_count": 11
  },
  {
   "cell_type": "code",
   "outputs": [],
   "source": [],
   "metadata": {
    "collapsed": false
   },
   "id": "8fd755aeb1ab6ad8"
  }
 ],
 "metadata": {
  "kernelspec": {
   "display_name": "Python 3",
   "language": "python",
   "name": "python3"
  },
  "language_info": {
   "codemirror_mode": {
    "name": "ipython",
    "version": 2
   },
   "file_extension": ".py",
   "mimetype": "text/x-python",
   "name": "python",
   "nbconvert_exporter": "python",
   "pygments_lexer": "ipython2",
   "version": "2.7.6"
  }
 },
 "nbformat": 4,
 "nbformat_minor": 5
}
